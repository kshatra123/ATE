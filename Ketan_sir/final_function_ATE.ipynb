{
 "cells": [
  {
   "cell_type": "code",
   "execution_count": 35,
   "metadata": {},
   "outputs": [],
   "source": [
    "import cv2\n",
    "import numpy as np\n",
    "import matplotlib.pyplot as plt\n",
    "import yaml\n",
    "import os\n",
    "import glob"
   ]
  },
  {
   "cell_type": "code",
   "execution_count": 36,
   "metadata": {},
   "outputs": [
    {
     "data": {
      "text/plain": [
       "{'t_lower': 100,\n",
       " 't_upper': 200,\n",
       " 'L2Gradient': True,\n",
       " 'connectivity': 4,\n",
       " 'measure_pixel': 4,\n",
       " 'get_pixel_img1': 5,\n",
       " 'get_pixel_img2': 10,\n",
       " 'top_left_point_kernel': 1,\n",
       " 'bottom_right_point_kernel': 2}"
      ]
     },
     "execution_count": 36,
     "metadata": {},
     "output_type": "execute_result"
    }
   ],
   "source": [
    "CONFIG_PATH = \"/home/office5/Image_Code/Ketan_sir/\"\n",
    "def load_config(config_name):\n",
    "    with open(os.path.join(CONFIG_PATH, config_name)) as file:\n",
    "        config = yaml.safe_load(file)\n",
    "    return config\n",
    "\n",
    "config = load_config(\"config.yaml\")\n",
    "config"
   ]
  },
  {
   "cell_type": "code",
   "execution_count": 37,
   "metadata": {},
   "outputs": [
    {
     "data": {
      "text/plain": [
       "{'t_lower': 100,\n",
       " 't_upper': 200,\n",
       " 'L2Gradient': True,\n",
       " 'connectivity': 4,\n",
       " 'measure_pixel': 4,\n",
       " 'get_pixel_img1': 5,\n",
       " 'get_pixel_img2': 10,\n",
       " 'top_left_point_kernel': 1,\n",
       " 'bottom_right_point_kernel': 2}"
      ]
     },
     "execution_count": 37,
     "metadata": {},
     "output_type": "execute_result"
    }
   ],
   "source": [
    "CONFIG_PATH = \"/home/office5/Image_Code/Ketan_sir/config.yaml\"\n",
    "def load_config(CONFIG_PATH):\n",
    "    with open(CONFIG_PATH) as file:\n",
    "        config = yaml.safe_load(file)\n",
    "    return config\n",
    "\n",
    "config = load_config(CONFIG_PATH)\n",
    "config"
   ]
  },
  {
   "cell_type": "code",
   "execution_count": 38,
   "metadata": {},
   "outputs": [],
   "source": [
    "def get_edge_image(img_path):\n",
    "    # Assume the image come is cropped part\n",
    "    img = cv2.imread(img_path)\n",
    "    gray = cv2.cvtColor(img, cv2.COLOR_BGR2GRAY)\n",
    "    thresh = cv2.threshold(gray,45,255,cv2.THRESH_BINARY)[1]\n",
    "    edge = cv2.Canny(thresh, config['t_lower'], config['t_upper'], L2gradient = config['L2Gradient'])\n",
    "    return edge,gray\n",
    "\n",
    "def get_connected_comp_img(edge):\n",
    "    lst_component = []\n",
    "    output = cv2.connectedComponentsWithStats(edge, config['connectivity'], cv2.CV_32S)\n",
    "    (numLabels, labels, stats, centroids) = output\n",
    "\n",
    "    # loop over the number of unique connected component labels\n",
    "    for i in range(0, numLabels):\n",
    "        if i == 0:\n",
    "            text = \"examining component {}/{} (background)\".format(\n",
    "                i + 1, numLabels)\n",
    "        # otherwise, we are examining an actual connected component\n",
    "        else:\n",
    "            text = \"examining component {}/{}\".format( i + 1, numLabels)\n",
    "        # x_ = stats[i, cv2.CC_STAT_LEFT]\n",
    "        # y_ = stats[i, cv2.CC_STAT_TOP]\n",
    "        w_ = stats[i, cv2.CC_STAT_WIDTH]\n",
    "        h_ = stats[i, cv2.CC_STAT_HEIGHT]\n",
    "        area = stats[i, cv2.CC_STAT_AREA]\n",
    "        (cX, cY) = centroids[i]\n",
    "\n",
    "        keepWidth = w_ > 2\n",
    "        keepHeight = h_ > 2\n",
    "        keepArea = area > 50\n",
    "\n",
    "        if all((keepWidth, keepHeight, keepArea)):\n",
    "            componentMask = (labels == i).astype(\"uint8\") * 255\n",
    "            # print(componentMask)\n",
    "            # cv2.imwrite(f\"/home/office5/Image_Code/Ketan_sir/try1_fun_component/{i}.png\",componentMask)\n",
    "            color_img  = cv2.cvtColor(componentMask,cv2.COLOR_GRAY2BGR)\n",
    "            lst_component.append(color_img)\n",
    "    return lst_component"
   ]
  },
  {
   "cell_type": "code",
   "execution_count": 39,
   "metadata": {},
   "outputs": [],
   "source": [
    "def get_extreme_point(all_component_image):\n",
    "\n",
    "    # to store all extreme point\n",
    "    extr_point = []\n",
    "\n",
    "\n",
    "    # Here define range from 1 to n because 0 image is backgroumd\n",
    "    for i in range(1,len(all_component_image)):\n",
    "        gray = cv2.cvtColor(all_component_image[i],cv2.COLOR_BGR2GRAY)\n",
    "        coords = np.column_stack(np.where(gray == 255))\n",
    "\n",
    "        # print(coords)\n",
    "        a = np.min(coords,axis=0)\n",
    "        b = np.max(coords,axis=0)\n",
    "\n",
    "        y_min,x_min,y_max,x_max = a[0],a[1],b[0],b[1]\n",
    "\n",
    "        points = []\n",
    "\n",
    "        for i in range(len(coords)):\n",
    "            if(x_min == coords[i][1]):\n",
    "                points.append([coords[i][0], coords[i][1]]) \n",
    "                break\n",
    "            else:\n",
    "                pass\n",
    "        points.append([coords[-1][0] , coords[-1][1]])\n",
    "        points = np.array(points)\n",
    "\n",
    "        for i in range(2):\n",
    "            extr_point.append([points[i][0], points[i][1]])\n",
    "\n",
    "    return extr_point\n",
    "        \n"
   ]
  },
  {
   "cell_type": "code",
   "execution_count": 40,
   "metadata": {},
   "outputs": [],
   "source": [
    "# def get_index_kernel(ori_gray,arr2,def_arr):\n",
    "\n",
    "#     y1_s = arr2[0] + 2744 - config['top_left_point_kernel']\n",
    "#     y2_s = arr2[0] + 2744 + config['bottom_right_point_kernel']\n",
    "#     x1_s = arr2[1] + 1824 - config['top_left_point_kernel']\n",
    "#     x2_s = arr2[1] + 1824 + config['bottom_right_point_kernel']\n",
    "#     # print(\"gr\",gray)\n",
    "#     kernel_value =  ori_gray[y1_s:y2_s,x1_s:x2_s]\n",
    "#     print(\"Kerenl_value\", kernel_value)\n",
    "#     count = 0\n",
    "#     for i in range(len(kernel_value[0])):\n",
    "#         for j in range(len(kernel_value[1])):\n",
    "#             def_arr[i][j] = (np.subtract(int(kernel_value[config['top_left_point_kernel']][config['top_left_point_kernel']]),int(kernel_value[i][j])))\n",
    "#             def_arr[config['top_left_point_kernel']][config['top_left_point_kernel']] = 5 \n",
    "#             if(def_arr[i][j]==0):\n",
    "#                 def_arr[i][j] = 1\n",
    "#             elif(def_arr[i][j]<0):\n",
    "#                 def_arr[i][j] = 0\n",
    "#             else:\n",
    "#                 def_arr[i][j] = 1\n",
    "            \n",
    "#     return def_arr"
   ]
  },
  {
   "cell_type": "markdown",
   "metadata": {},
   "source": [
    "# trial only for part of image"
   ]
  },
  {
   "cell_type": "code",
   "execution_count": 41,
   "metadata": {},
   "outputs": [],
   "source": [
    "def get_index_kernel(ori_gray,extreme_point_arr,set_kernel_value):\n",
    "\n",
    "    y1_s = extreme_point_arr[0] - config['top_left_point_kernel']\n",
    "    y2_s = extreme_point_arr[0] + config['bottom_right_point_kernel']\n",
    "    x1_s = extreme_point_arr[1] - config['top_left_point_kernel']\n",
    "    x2_s = extreme_point_arr[1] + config['bottom_right_point_kernel']\n",
    "    try:\n",
    "        kernel_value =  ori_gray[y1_s:y2_s,x1_s:x2_s]\n",
    "        for i in range(len(kernel_value[0])):\n",
    "            for j in range(len(kernel_value[1])):\n",
    "                set_kernel_value[i][j] = (np.subtract(int(kernel_value[config['top_left_point_kernel']][config['top_left_point_kernel']]),int(kernel_value[i][j])))\n",
    "                set_kernel_value[config['top_left_point_kernel']][config['top_left_point_kernel']] = 5 \n",
    "                if(set_kernel_value[i][j]==0):\n",
    "                    set_kernel_value[i][j] = 1\n",
    "                elif(set_kernel_value[i][j]<0):\n",
    "                    set_kernel_value[i][j] = 0\n",
    "                else:\n",
    "                    set_kernel_value[i][j] = 1\n",
    "    except:\n",
    "        # print(kernel_value)\n",
    "        set_kernel_value = np.zeros((3,3))\n",
    "        # print(set_kernel_value)\n",
    "    return set_kernel_value"
   ]
  },
  {
   "cell_type": "code",
   "execution_count": 42,
   "metadata": {},
   "outputs": [],
   "source": [
    "def get_removed_extreme_point(ori_gray,all_extreme_point):\n",
    "\n",
    "    extreme_point_list = []\n",
    "    dict1 = {}\n",
    "    kernel_shape = config['top_left_point_kernel'] + config['bottom_right_point_kernel']\n",
    "    m = 0\n",
    "    dict1 = {}\n",
    "    print(\"all point testing Point\")\n",
    "    for i in range(len(all_extreme_point)):\n",
    "        extreme_point_arr = np.array(all_extreme_point[i])\n",
    "        # print(arr)\n",
    "        zero_kernel_arr = np.zeros((kernel_shape,kernel_shape))\n",
    "        kernel_value = get_index_kernel(ori_gray,extreme_point_arr,zero_kernel_arr)\n",
    "        unique_1_0 = np.unique(kernel_value,return_counts=True)\n",
    "        # print(unique_1_0)\n",
    "        if len(unique_1_0[0])==3:\n",
    "            count_0 = unique_1_0[1][0]\n",
    "            count_1 = unique_1_0[1][1]\n",
    "            # print(count_0,count_1)\n",
    "            dict1['0'] = count_0\n",
    "            dict1['1'] = count_1\n",
    "            if (count_0==3 and count_1==5) or (count_0==5 and count_1==3):\n",
    "\n",
    "                corner_1 = kernel_value[0][0]\n",
    "                corner_2 = kernel_value[0][2]\n",
    "                corner_3 = kernel_value[2][0]\n",
    "                corner_4 = kernel_value[2][2]\n",
    "\n",
    "                corner_point = np.array([corner_1,corner_2,corner_3,corner_4])\n",
    "                for key, value in dict1.items():\n",
    "                    if value == 3:\n",
    "                        corner_index = np.where(corner_point==int(key)) \n",
    "\n",
    "                        if corner_index[0][0] == 0:\n",
    "                            x,y = 0,0\n",
    "                            if (kernel_value[x][y]==int(key) and kernel_value[x+1][y]==int(key) and kernel_value[x][y+1]==int(key)):\n",
    "                                # print('--------0',[a[i][0],a[i][1]])\n",
    "                                extreme_point_list.append([a[i][0],a[i][1]])\n",
    "\n",
    "                        if corner_index[0][0] == 1:\n",
    "                            x,y = 0,2\n",
    "                            if (kernel_value[x][y]==int(key) and kernel_value[x][y-1]==int(key) and kernel_value[x+1][y]==int(key)):\n",
    "                                # print('--------1',[a[i][0],a[i][1]])\n",
    "                                extreme_point_list.append([a[i][0],a[i][1]])\n",
    "\n",
    "                        if corner_index[0][0] == 2:\n",
    "                            x,y = 2,0\n",
    "                            if (kernel_value[x][y]==int(key) and kernel_value[x-1][y]==int(key) and kernel_value[x][y+1]==int(key)):\n",
    "                                # print('--------2',[a[i][0],a[i][1]])\n",
    "                                extreme_point_list.append([a[i][0],a[i][1]])\n",
    "\n",
    "                        if corner_index[0][0] == 3:\n",
    "                            x,y = 2,2\n",
    "                            if (kernel_value[x][y]==int(key) and kernel_value[x][y-1]==int(key) and kernel_value[x-1][y]==int(key)):\n",
    "                                # print('--------3',[a[i][0],a[i][1]])\n",
    "                                extreme_point_list.append([a[i][0],a[i][1]])\n",
    "\n",
    "\n",
    "    return extreme_point_list\n",
    "\n",
    "# a = np.load('coordinate.npy')\n",
    "# a = [tuple(row) for row in a]\n",
    "# a = np.unique(a,axis=0)\n",
    "# h = config['top_left_point_kernel'] + config['bottom_right_point_kernel']\n",
    "\n",
    "# def_arr = np.zeros((h,h))\n",
    "# dict1 = {}\n",
    "# extrmem_point_list = []\n",
    "# value = get_extreme_point(a,dict1,extrmem_point_list)\n",
    "# print(value)"
   ]
  },
  {
   "cell_type": "code",
   "execution_count": 44,
   "metadata": {},
   "outputs": [
    {
     "name": "stdout",
     "output_type": "stream",
     "text": [
      "--------------------------------------------------------------------------------\n",
      "[[0, 6], [106, 42], [6, 63], [19, 66], [102, 16], [111, 39], [0, 162], [135, 208], [73, 189], [80, 210], [0, 268], [64, 274], [0, 313], [53, 317], [0, 367], [75, 376], [83, 495], [83, 495], [84, 497], [85, 497], [24, 524], [51, 524], [51, 526], [51, 526], [4, 28], [15, 31], [25, 440], [32, 456], [123, 21], [125, 46], [34, 391], [46, 415], [113, 453], [115, 456], [56, 395], [57, 415], [126, 446], [129, 462], [59, 288], [66, 309], [68, 246], [75, 268], [88, 248], [90, 270], [101, 352], [106, 370], [93, 199], [110, 206], [81, 346], [91, 371], [129, 161], [157, 233], [165, 188], [172, 234], [231, 728], [231, 735], [205, 596], [210, 647], [209, 199], [216, 248], [290, 750], [290, 763], [211, 442], [294, 453], [221, 470], [293, 480], [229, 642], [286, 669], [264, 186], [295, 197], [237, 218], [240, 240], [216, 526], [285, 581], [228, 587], [285, 630], [213, 701], [283, 761], [224, 301], [287, 355], [270, 362], [286, 380], [257, 407], [285, 450], [224, 476], [285, 495], [226, 193], [287, 212], [278, 233], [287, 298], [223, 399], [243, 408], [228, 544], [244, 555], [230, 320], [246, 330], [232, 667], [246, 695], [253, 257], [255, 272], [256, 352], [269, 359], [243, 385], [286, 413], [242, 429], [286, 448], [262, 612], [265, 671], [254, 576], [274, 586], [290, 708], [290, 722], [262, 728], [291, 747], [292, 483], [294, 498], [286, 191], [294, 215], [293, 309], [294, 321], [292, 361], [295, 383], [295, 404], [295, 414], [283, 230], [294, 252], [307, 436], [308, 533], [361, 381], [378, 388], [310, 554], [375, 574], [362, 387], [371, 400], [319, 432], [370, 509], [361, 518], [370, 531], [333, 435], [362, 445], [376, 466], [376, 466], [333, 514], [358, 516], [333, 478], [377, 496], [343, 857], [363, 871], [342, 847], [391, 878], [365, 64], [391, 69], [359, 842], [373, 855], [377, 391], [379, 403]]\n",
      "all point testing Point\n",
      "********************************************************************************\n",
      "[[25, 440], [85, 497], [106, 42], [113, 453], [216, 248], [231, 728], [231, 735], [232, 667], [237, 218], [240, 240], [242, 429], [257, 407], [262, 612], [262, 728], [265, 671], [283, 761], [285, 495], [286, 413], [287, 212], [287, 298], [363, 871], [370, 509], [370, 531], [371, 400], [375, 574]]\n"
     ]
    },
    {
     "data": {
      "text/plain": [
       "True"
      ]
     },
     "execution_count": 44,
     "metadata": {},
     "output_type": "execute_result"
    }
   ],
   "source": [
    "img_path = '/home/office5/Image_Code/Ketan_sir/gray.png'\n",
    "edge,original_gray = get_edge_image(img_path)\n",
    "all_component_image = get_connected_comp_img(edge)\n",
    "all_extreme_point =  get_extreme_point(all_component_image)\n",
    "print(\"-\"*80)\n",
    "print(all_extreme_point)\n",
    "remove_duplicate_extreme_point = [tuple(row) for row in all_extreme_point]\n",
    "remove_duplicate_extreme_point = np.unique(remove_duplicate_extreme_point,axis=0)\n",
    "# print(\"$\"*30)\n",
    "# print(a)\n",
    "value = get_removed_extreme_point(original_gray,remove_duplicate_extreme_point)\n",
    "print(\"*\"*80)\n",
    "print(value)\n",
    "# For priting white point on extreme point pixel\n",
    "for i in range(len(value)):\n",
    "    original_gray[value[i][0]][value[i][1]] = 255\n",
    "cv2.imwrite('e.png',original_gray)"
   ]
  },
  {
   "cell_type": "code",
   "execution_count": null,
   "metadata": {},
   "outputs": [],
   "source": []
  }
 ],
 "metadata": {
  "interpreter": {
   "hash": "df0893f56f349688326838aaeea0de204df53a132722cbd565e54b24a8fec5f6"
  },
  "kernelspec": {
   "display_name": "Python 3.8.13 64-bit",
   "language": "python",
   "name": "python3"
  },
  "language_info": {
   "codemirror_mode": {
    "name": "ipython",
    "version": 3
   },
   "file_extension": ".py",
   "mimetype": "text/x-python",
   "name": "python",
   "nbconvert_exporter": "python",
   "pygments_lexer": "ipython3",
   "version": "3.8.13"
  },
  "orig_nbformat": 4
 },
 "nbformat": 4,
 "nbformat_minor": 2
}
