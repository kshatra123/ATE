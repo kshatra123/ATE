{
 "cells": [
  {
   "cell_type": "code",
   "execution_count": 35,
   "metadata": {},
   "outputs": [],
   "source": [
    "import cv2\n",
    "import numpy as np\n",
    "import matplotlib.pyplot as plt\n",
    "import yaml\n",
    "import os\n",
    "import glob"
   ]
  },
  {
   "cell_type": "code",
   "execution_count": 36,
   "metadata": {},
   "outputs": [
    {
     "data": {
      "text/plain": [
       "{'l_thresh': 20,\n",
       " 'u_thresh': 245,\n",
       " 't_lower': 100,\n",
       " 't_upper': 200,\n",
       " 'L2Gradient': True,\n",
       " 'connectivity': 4,\n",
       " 'get_pixel_img1': 5,\n",
       " 'get_pixel_img2': 10,\n",
       " 'get_kernel_size_value': 1,\n",
       " 'debug': False,\n",
       " 'y_size': 200,\n",
       " 'x_size': 500}"
      ]
     },
     "execution_count": 36,
     "metadata": {},
     "output_type": "execute_result"
    }
   ],
   "source": [
    "CONFIG_PATH = \"/home/office5/ATE/Ketan_sir/\"\n",
    "def load_config(config_name):\n",
    "    with open(os.path.join(CONFIG_PATH, config_name)) as file:\n",
    "        config = yaml.safe_load(file)\n",
    "    return config\n",
    "\n",
    "config = load_config(\"config.yaml\")\n",
    "config"
   ]
  },
  {
   "cell_type": "markdown",
   "metadata": {},
   "source": [
    "## Get crop portion of image"
   ]
  },
  {
   "cell_type": "code",
   "execution_count": 37,
   "metadata": {},
   "outputs": [],
   "source": [
    "def show(img):\n",
    "    plt.figure(figsize = (15,12))\n",
    "    plt.imshow(img)\n",
    "    plt.show()"
   ]
  },
  {
   "cell_type": "code",
   "execution_count": 38,
   "metadata": {},
   "outputs": [],
   "source": [
    "def get_edge_image(img_path):\n",
    "    # Assume the image come is cropped part\n",
    "    # img = cv2.imread(img_path)\n",
    "    # gray = cv2.cvtColor(img, cv2.COLOR_BGR2GRAY)\n",
    "    thresh = cv2.threshold(img_path,config['l_thresh'],config['u_thresh'],cv2.THRESH_BINARY)[1]\n",
    "    edge = cv2.Canny(thresh, config['t_lower'], config['t_upper'], L2gradient = config['L2Gradient'])\n",
    "    return edge,img_path\n",
    "\n",
    "def get_connected_comp_img(edge):\n",
    "    lst_component = []\n",
    "    output = cv2.connectedComponentsWithStats(edge, config['connectivity'], cv2.CV_32S)\n",
    "    (numLabels, labels, stats, centroids) = output\n",
    "\n",
    "    # loop over the number of unique connected component labels\n",
    "    for i in range(0, numLabels):\n",
    "        if i == 0:\n",
    "            text = \"examining component {}/{} (background)\".format(\n",
    "                i + 1, numLabels)\n",
    "        # otherwise, we are examining an actual connected component\n",
    "        else:\n",
    "            text = \"examining component {}/{}\".format( i + 1, numLabels)\n",
    "        # x_ = stats[i, cv2.CC_STAT_LEFT]\n",
    "        # y_ = stats[i, cv2.CC_STAT_TOP]\n",
    "        w_ = stats[i, cv2.CC_STAT_WIDTH]\n",
    "        h_ = stats[i, cv2.CC_STAT_HEIGHT]\n",
    "        area = stats[i, cv2.CC_STAT_AREA]\n",
    "        (cX, cY) = centroids[i]\n",
    "\n",
    "        keepWidth = w_ > 2\n",
    "        keepHeight = h_ > 2\n",
    "        keepArea = area > 50\n",
    "\n",
    "        if all((keepWidth, keepHeight, keepArea)):\n",
    "            componentMask = (labels == i).astype(\"uint8\") * 255\n",
    "            # print(componentMask)\n",
    "            # cv2.imwrite(f\"/home/office5/Image_Code/Ketan_sir/try1_fun_component/{i}.png\",componentMask)\n",
    "            color_img  = cv2.cvtColor(componentMask,cv2.COLOR_GRAY2BGR)\n",
    "            lst_component.append(color_img)\n",
    "    return lst_component"
   ]
  },
  {
   "cell_type": "code",
   "execution_count": 39,
   "metadata": {},
   "outputs": [],
   "source": [
    "def get_extreme_point(all_component_image):\n",
    "\n",
    "    # to store all extreme point\n",
    "    extr_point = []\n",
    "\n",
    "\n",
    "    # Here define range from 1 to n because 0 image is backgroumd\n",
    "    for i in range(1,len(all_component_image)):\n",
    "        gray = cv2.cvtColor(all_component_image[i],cv2.COLOR_BGR2GRAY)\n",
    "        coords = np.column_stack(np.where(gray == 255))\n",
    "\n",
    "        # print(coords)\n",
    "        a = np.min(coords,axis=0)\n",
    "        b = np.max(coords,axis=0)\n",
    "\n",
    "        y_min,x_min,y_max,x_max = a[0],a[1],b[0],b[1]\n",
    "\n",
    "        points = []\n",
    "\n",
    "        # for i in range(len(coords)):\n",
    "        #     if(y_min == coords[i][0]):\n",
    "        #         pass\n",
    "        #     else:\n",
    "        #         points.append([coords[i-1][0], coords[i-1][1]]) \n",
    "        #         break\n",
    "            \n",
    "        for i in range(len(coords)):\n",
    "            if(x_min == coords[i][1]):\n",
    "                points.append([coords[i][0], coords[i][1]]) \n",
    "                break\n",
    "            else:\n",
    "                pass\n",
    "        points.append([coords[-1][0] , coords[-1][1]])\n",
    "        points = np.array(points)\n",
    "\n",
    "        for i in range(2):\n",
    "            extr_point.append([points[i][0], points[i][1]])\n",
    "\n",
    "    return extr_point\n",
    "        \n"
   ]
  },
  {
   "cell_type": "code",
   "execution_count": 40,
   "metadata": {},
   "outputs": [],
   "source": [
    "def get_index_kernel(ori_gray, extreme_point_arr, set_kernel_value):\n",
    "\n",
    "    y1_s = extreme_point_arr[0] - config['get_kernel_size_value']\n",
    "    y2_s = extreme_point_arr[0] + config['get_kernel_size_value']\n",
    "    x1_s = extreme_point_arr[1] - config['get_kernel_size_value']\n",
    "    x2_s = extreme_point_arr[1] + config['get_kernel_size_value']\n",
    "\n",
    "    try:\n",
    "        kernel_value =  ori_gray[y1_s:y2_s + 1,x1_s:x2_s + 1]\n",
    "        \n",
    "        for i in range(len(kernel_value[0])):\n",
    "            for j in range(len(kernel_value[1])):\n",
    "                set_kernel_value[i][j] = (np.subtract(int(kernel_value[config['get_kernel_size_value']][config['get_kernel_size_value']]),int(kernel_value[i][j])))\n",
    "                set_kernel_value[config['get_kernel_size_value']][config['get_kernel_size_value']] = 5 \n",
    "                if(set_kernel_value[i][j]==0):\n",
    "                    set_kernel_value[i][j] = 1\n",
    "                elif(set_kernel_value[i][j]<0):\n",
    "                    set_kernel_value[i][j] = 0\n",
    "                else:\n",
    "                    set_kernel_value[i][j] = 1\n",
    "    except:\n",
    "        set_kernel_value = np.zeros((3,3))\n",
    "    return set_kernel_value"
   ]
  },
  {
   "cell_type": "code",
   "execution_count": 41,
   "metadata": {},
   "outputs": [],
   "source": [
    "def get_removed_extreme_point(ori_gray, all_extreme_point):\n",
    "\n",
    "    extreme_point_list = []\n",
    "    dict1 = {}\n",
    "    kernel_shape = (config['get_kernel_size_value'] * 2) + 1 ## 1->3 2->5 3->7 kerenl_size\n",
    "    m = 0\n",
    "    dict1 = {}\n",
    "    for i in range(len(all_extreme_point)):\n",
    "        extreme_point_arr = np.array(all_extreme_point[i])\n",
    "        zero_kernel_arr = np.zeros((kernel_shape,kernel_shape))\n",
    "        kernel_value = get_index_kernel(ori_gray,extreme_point_arr,zero_kernel_arr)\n",
    "        unique_1_0 = np.unique(kernel_value,return_counts=True)\n",
    "        # print(\"unique_1_0\",unique_1_0)\n",
    "        if len(unique_1_0[0])==3:\n",
    "            count_0 = unique_1_0[1][0]\n",
    "            count_1 = unique_1_0[1][1]\n",
    "            # print(count_0,count_1)\n",
    "            dict1['0'] = count_0\n",
    "            dict1['1'] = count_1\n",
    "            if (count_0==3 and count_1==5) or (count_0==5 and count_1==3):\n",
    "                temp_kernel_size_value = config['get_kernel_size_value']\n",
    "                corner_1 = kernel_value[0][0]\n",
    "                corner_2 = kernel_value[0][kernel_shape-1]\n",
    "                corner_3 = kernel_value[kernel_shape-1][0]\n",
    "                corner_4 = kernel_value[kernel_shape-1][kernel_shape-1]\n",
    "                try:\n",
    "                    corner_point = np.array([corner_1,corner_2,corner_3,corner_4])\n",
    "                    for key, value in dict1.items():\n",
    "                        if value == 3:\n",
    "                            corner_index = np.where(corner_point==int(key)) \n",
    "                            # print(\"corner_index\",corner_index)\n",
    "\n",
    "                            if corner_index[0][0] == 0:\n",
    "                                x,y = 0,0\n",
    "                                if (kernel_value[x][y]==int(key) and kernel_value[x+1][y]==int(key) and kernel_value[x][y+1]==int(key)):\n",
    "                                    extreme_point_list.append([all_extreme_point[i][0],all_extreme_point[i][1]])\n",
    "\n",
    "                            if corner_index[0][0] == 1:\n",
    "                                x,y = 0,kernel_shape-1\n",
    "                                if (kernel_value[x][y]==int(key) and kernel_value[x][y-1]==int(key) and kernel_value[x+1][y]==int(key)):\n",
    "                                    extreme_point_list.append([all_extreme_point[i][0],all_extreme_point[i][1]])\n",
    "\n",
    "                            if corner_index[0][0] == 2:\n",
    "                                x,y = kernel_shape-1,0\n",
    "                                if (kernel_value[x][y]==int(key) and kernel_value[x-1][y]==int(key) and kernel_value[x][y+1]==int(key)):\n",
    "                                    extreme_point_list.append([all_extreme_point[i][0],all_extreme_point[i][1]])\n",
    "\n",
    "                            if corner_index[0][0] == 3:\n",
    "                                x,y = kernel_shape-1,kernel_shape-1\n",
    "                                if (kernel_value[x][y]==int(key) and kernel_value[x][y-1]==int(key) and kernel_value[x-1][y]==int(key)):\n",
    "                                    extreme_point_list.append([all_extreme_point[i][0],all_extreme_point[i][1]])\n",
    "                except:\n",
    "                    pass\n",
    "\n",
    "    return extreme_point_list"
   ]
  },
  {
   "cell_type": "markdown",
   "metadata": {},
   "source": [
    "### 2nd function\n",
    "making function to get point from original_image, defective image"
   ]
  },
  {
   "cell_type": "code",
   "execution_count": 42,
   "metadata": {},
   "outputs": [],
   "source": [
    "def get_point_on_image(first_img_point,img1_gray_pth,img2_gray_pth,debug=False):\n",
    "\n",
    "    gray_img1 = img1_gray_pth\n",
    "    gray_img2 = img2_gray_pth\n",
    "\n",
    "    second_img_point = []\n",
    "    for i in range(len(first_img_point)):\n",
    "        ori_img_loc_x = first_img_point[i][1]\n",
    "        ori_img_loc_y = first_img_point[i][0]\n",
    "        x1_f = ori_img_loc_x - config['get_pixel_img1']\n",
    "        x2_f = ori_img_loc_x + config['get_pixel_img1']\n",
    "        y1_f = ori_img_loc_y - config['get_pixel_img1']\n",
    "        y2_f = ori_img_loc_y + config['get_pixel_img1']\n",
    "\n",
    "        img_crop1  = gray_img1[y1_f:y2_f,x1_f:x2_f]\n",
    "        img_first = img_crop1.astype(np.int8)\n",
    "\n",
    "        x1_s = ori_img_loc_x - config['get_pixel_img2']\n",
    "        x2_s = ori_img_loc_x + config['get_pixel_img2']\n",
    "        y1_s = ori_img_loc_y - config['get_pixel_img2']\n",
    "        y2_s = ori_img_loc_y + config['get_pixel_img2']\n",
    "\n",
    "        img_crop2  = gray_img2[y1_s:y2_s,x1_s:x2_s]\n",
    "        img_snd = img_crop2.astype(np.int8)\n",
    "        try:\n",
    "            dict1 = {}\n",
    "            for i in range(config['get_pixel_img2']):\n",
    "                for j in range(config['get_pixel_img2']):\n",
    "                    dict1[i,j] = np.mean(np.abs(img_first  - img_snd[i:i+config['get_pixel_img2'],j:j+config['get_pixel_img2']]))\n",
    "            i,j = min(dict1, key=dict1.get)\n",
    "\n",
    "            s_img_extr_point_x = x1_s + config['get_pixel_img2'] - config['get_pixel_img1'] + j # 10 for each block of first image and -5 for adding from width and height of first image\n",
    "            s_img_extr_point_y =y1_s + config['get_pixel_img2'] - config['get_pixel_img1'] + i\n",
    "            second_img_point.append([s_img_extr_point_y,s_img_extr_point_x])\n",
    "        except:\n",
    "            pass\n",
    "        \n",
    "    if debug:\n",
    "        print(\"in debug\")\n",
    "        for i in range(len(first_img_point)):\n",
    "            gray_img1[first_img_point[i][0]][first_img_point[i][1]] = 255\n",
    "\n",
    "        for i in range(len(second_img_point)):\n",
    "            gray_img2[second_img_point[i][0]][second_img_point[i][1]] = 255\n",
    "        \n",
    "        # cv2.imwrite('3.png',gray_img2)\n",
    "        return second_img_point,gray_img1,gray_img2\n",
    "    else:\n",
    "        return second_img_point\n"
   ]
  },
  {
   "cell_type": "markdown",
   "metadata": {},
   "source": [
    "### Final_call function"
   ]
  },
  {
   "cell_type": "code",
   "execution_count": 43,
   "metadata": {},
   "outputs": [],
   "source": [
    "def main(img1_path,img2_path,debug):\n",
    "\n",
    "    ### first function part\n",
    "    edge,original_gray = get_edge_image(img1_path)\n",
    "    # plt.imshow(edge)\n",
    "    # plt.show(edge)\n",
    "    all_component_image = get_connected_comp_img(edge)\n",
    "    all_extreme_point =  get_extreme_point(all_component_image)\n",
    "    remove_duplicate_extreme_point = [tuple(row) for row in all_extreme_point]\n",
    "    remove_duplicate_extreme_point = np.unique(remove_duplicate_extreme_point,axis=0)\n",
    "    first_img_point = get_removed_extreme_point(original_gray,remove_duplicate_extreme_point)\n",
    "\n",
    "\n",
    "    ## second function part\n",
    "    if debug:\n",
    "        second_img_point,original_img,defect_img = get_point_on_image(first_img_point,img1_path,img2_path,debug)\n",
    "        return first_img_point,second_img_point,original_img,defect_img\n",
    "    else:\n",
    "        second_img_point = get_point_on_image(first_img_point,img1_path,img2_path,debug)\n",
    "        return first_img_point,second_img_point\n",
    "\n",
    "anna2_img = \"/home/office5/ATE/Ketan_sir/testing_images/crop_block4/123[ 10 616].png\"\n",
    "anna2_img = cv2.imread(anna2_img,0)\n",
    "anna3_img = \"/home/office5/ATE/Ketan_sir/testing_images/crop_block4/123[ 10 616].png\"\n",
    "anna3_img = cv2.imread(anna3_img,0)\n",
    "\n",
    "\n",
    "if config['debug']:\n",
    "    print(\"Here\")\n",
    "    first_img_point,second_img_point,original_img,defect_img = main(anna2_img,anna3_img,config['debug'])\n",
    "else:\n",
    "    first_img_point,second_img_point = main(anna2_img,anna3_img,config['debug'])"
   ]
  },
  {
   "cell_type": "code",
   "execution_count": 44,
   "metadata": {},
   "outputs": [
    {
     "name": "stdout",
     "output_type": "stream",
     "text": [
      "[[360, 1161], [384, 940], [413, 820]] 3\n",
      "[[360, 1161], [384, 940], [413, 820]]\n"
     ]
    }
   ],
   "source": [
    "print(first_img_point, len(first_img_point))\n",
    "print(second_img_point)"
   ]
  },
  {
   "cell_type": "code",
   "execution_count": 45,
   "metadata": {},
   "outputs": [
    {
     "data": {
      "text/plain": [
       "True"
      ]
     },
     "execution_count": 45,
     "metadata": {},
     "output_type": "execute_result"
    }
   ],
   "source": [
    "for i in range(len(first_img_point)):\n",
    "    anna2_img[first_img_point[i][0],first_img_point[i][1]] = 255\n",
    "cv2.imwrite('img1.png',anna2_img)\n",
    "\n",
    "for i in range(len(second_img_point)):\n",
    "    anna3_img[second_img_point[i][0],second_img_point[i][1]] = 255\n",
    "cv2.imwrite('img2.png',anna3_img)\n"
   ]
  },
  {
   "cell_type": "code",
   "execution_count": 34,
   "metadata": {},
   "outputs": [
    {
     "data": {
      "image/png": "[encoded data removed]",
      "text/plain": [
       "<Figure size 432x288 with 1 Axes>"
      ]
     },
     "metadata": {
      "needs_background": "light"
     },
     "output_type": "display_data"
    }
   ],
   "source": [
    "anna2_img = \"/home/office5/ATE/Ketan_sir/testing_images/crop_block4/123[ 10 616].png\"\n",
    "anna2_img = cv2.imread(anna2_img,0)\n",
    "thresh = cv2.threshold(anna2_img,10,245,cv2.THRESH_BINARY)[1]\n",
    "edge = cv2.Canny(thresh, config['t_lower'], config['t_upper'], L2gradient = config['L2Gradient'])\n",
    "plt.imshow(edge)\n",
    "plt.show()"
   ]
  },
  {
   "cell_type": "code",
   "execution_count": null,
   "metadata": {},
   "outputs": [
    {
     "data": {
      "text/plain": [
       "True"
      ]
     },
     "execution_count": 38,
     "metadata": {},
     "output_type": "execute_result"
    }
   ],
   "source": [
    "# plt.imshow(defect_img)\n",
    "# plt.show()\n",
    "\n",
    "cv2.imwrite('1.png',original_img)\n",
    "cv2.imwrite('2.png',defect_img)"
   ]
  },
  {
   "cell_type": "code",
   "execution_count": null,
   "metadata": {},
   "outputs": [],
   "source": [
    "import matplotlib.pyplot as plt"
   ]
  },
  {
   "cell_type": "code",
   "execution_count": null,
   "metadata": {},
   "outputs": [
    {
     "name": "stdout",
     "output_type": "stream",
     "text": [
      "(392, 912)\n",
      "(3136, 7296)\n"
     ]
    }
   ],
   "source": [
    "image = \"/home/office5/Image_Code/Ketan_sir/data/Anna2.bmp\"\n",
    "img = cv2.imread(image,0)\n",
    "y, x = img.shape\n",
    "n = 8\n",
    "start_x = 2\n",
    "start_y = 7\n",
    "edge1 = img[start_y * y // n: (start_y + 1) * y // n, start_x * x // n:(start_x + 1) * x // n]\n",
    "print(edge1.shape)\n",
    "print(img.shape)\n",
    "# show(edge1)"
   ]
  },
  {
   "cell_type": "code",
   "execution_count": null,
   "metadata": {},
   "outputs": [
    {
     "name": "stdout",
     "output_type": "stream",
     "text": [
      "3136 7296\n",
      "1568 3648\n"
     ]
    }
   ],
   "source": [
    "height, width = img.shape\n",
    "half_height,half_width = height//2, width//2\n",
    "print(height,width)\n",
    "print(half_height,half_width)"
   ]
  },
  {
   "cell_type": "code",
   "execution_count": null,
   "metadata": {},
   "outputs": [],
   "source": []
  },
  {
   "cell_type": "markdown",
   "metadata": {},
   "source": [
    "### Making four images from original images"
   ]
  },
  {
   "cell_type": "code",
   "execution_count": null,
   "metadata": {},
   "outputs": [],
   "source": [
    "import cv2"
   ]
  },
  {
   "cell_type": "code",
   "execution_count": null,
   "metadata": {},
   "outputs": [],
   "source": [
    "img = cv2.imread('/home/office5/Image_Code/Ketan_sir/data/Anna3.bmp')"
   ]
  },
  {
   "cell_type": "code",
   "execution_count": null,
   "metadata": {},
   "outputs": [
    {
     "data": {
      "text/plain": [
       "(3136, 7296, 3)"
      ]
     },
     "execution_count": 29,
     "metadata": {},
     "output_type": "execute_result"
    }
   ],
   "source": [
    "img.shape"
   ]
  },
  {
   "cell_type": "code",
   "execution_count": null,
   "metadata": {},
   "outputs": [
    {
     "name": "stdout",
     "output_type": "stream",
     "text": [
      "3136 7296\n"
     ]
    }
   ],
   "source": [
    "height , width,_ = img.shape\n",
    "print(height,width)"
   ]
  },
  {
   "cell_type": "code",
   "execution_count": null,
   "metadata": {},
   "outputs": [
    {
     "name": "stdout",
     "output_type": "stream",
     "text": [
      "1568 3648\n"
     ]
    }
   ],
   "source": [
    "half_hei, half_wid = height // 2 , width //2\n",
    "print(half_hei,half_wid)"
   ]
  },
  {
   "cell_type": "code",
   "execution_count": null,
   "metadata": {},
   "outputs": [
    {
     "name": "stdout",
     "output_type": "stream",
     "text": [
      "1st part of image   height  0  -  1568  width  0  -  3648\n",
      "2nd part of image   height  0  -  1568  width  3648  -  7296\n",
      "3rd part of image   height  1568  -  3136  width  0  -  3648\n",
      "4th part of image   height  0  -  1568  width  3648  -  7296\n"
     ]
    }
   ],
   "source": [
    "print(\"1st part of image \", \" height \", 0       ,' - ',     half_hei,   ' width ',   0 ,' - ',  half_wid)\n",
    "print(\"2nd part of image \", \" height \", 0       ,' - ',     half_hei,   ' width ',  half_wid,   ' - ',width)\n",
    "print(\"3rd part of image \", \" height \", half_hei ,' - ',    height,     ' width ',   0 ,' - '   ,half_wid)\n",
    "print(\"4th part of image \", \" height \", 0       ,' - ',     half_hei,   ' width ',  half_wid,   ' - ',width)"
   ]
  },
  {
   "cell_type": "code",
   "execution_count": null,
   "metadata": {},
   "outputs": [
    {
     "name": "stdout",
     "output_type": "stream",
     "text": [
      "Centre value of image of first part  height  784  width  1824\n",
      "Centre value of image of second part  height  784  width  5472\n",
      "Centre value of image of third part  height  2352  width  1824\n",
      "Centre value of image of fourth part  height  2352  width  5472\n"
     ]
    }
   ],
   "source": [
    "print(\"Centre value of image of first part\" ,\" height \", (0 + half_hei) // 2, \" width \", (0 + half_wid) // 2)\n",
    "print(\"Centre value of image of second part\" ,\" height \", (0 + half_hei) // 2, \" width \", (half_wid + width) // 2)\n",
    "print(\"Centre value of image of third part\" ,\" height \", (half_hei + height) // 2, \" width \", (0 + half_wid) // 2)\n",
    "print(\"Centre value of image of fourth part\" ,\" height \", (half_hei + height) // 2, \" width \", (half_wid + width) // 2)"
   ]
  },
  {
   "cell_type": "code",
   "execution_count": null,
   "metadata": {},
   "outputs": [
    {
     "name": "stdout",
     "output_type": "stream",
     "text": [
      "584 984 1324 2324\n",
      "584 984 4972 5972\n",
      "2152 2552 1324 2324\n",
      "2152 2552 4972 5972\n"
     ]
    }
   ],
   "source": [
    "print(784 - 200, 784 + 200, 1824 -500, 1824 + 500)\n",
    "print(784 - 200, 784 + 200, 5472 -500, 5472 + 500)\n",
    "print(2352 - 200, 2352 + 200, 1824 -500, 1824 + 500)\n",
    "print(2352 - 200, 2352 + 200, 5472 -500, 5472 + 500)"
   ]
  },
  {
   "cell_type": "code",
   "execution_count": null,
   "metadata": {},
   "outputs": [],
   "source": [
    "first_img_crop = img[584:984,1324:2324]\n",
    "second_img_crop = img[584:984,4972:5972]\n",
    "third_img_crop = img[2152:2552,1324:2324]\n",
    "fourth_img_crop = img[2152:2552,4972:5972]"
   ]
  },
  {
   "cell_type": "code",
   "execution_count": null,
   "metadata": {},
   "outputs": [
    {
     "data": {
      "text/plain": [
       "True"
      ]
     },
     "execution_count": 39,
     "metadata": {},
     "output_type": "execute_result"
    }
   ],
   "source": [
    "# plt.imshow(first_img_crop)\n",
    "# plt.show()\n",
    "# plt.imshow(second_img_crop)\n",
    "# plt.show()\n",
    "# plt.imshow(third_img_crop)\n",
    "# plt.show()\n",
    "# plt.imshow(fourth_img_crop)\n",
    "# plt.show()\n",
    "\n",
    "cv2.imwrite('first_img2_crop.png',first_img_crop)\n",
    "cv2.imwrite('second_img2_crop.png',second_img_crop)\n",
    "cv2.imwrite('third_img2_crop.png',third_img_crop)\n",
    "cv2.imwrite('fourth_img2_crop.png',fourth_img_crop)"
   ]
  },
  {
   "cell_type": "code",
   "execution_count": null,
   "metadata": {},
   "outputs": [],
   "source": []
  }
 ],
 "metadata": {
  "interpreter": {
   "hash": "df0893f56f349688326838aaeea0de204df53a132722cbd565e54b24a8fec5f6"
  },
  "kernelspec": {
   "display_name": "Python 3.8.13 64-bit",
   "language": "python",
   "name": "python3"
  },
  "language_info": {
   "codemirror_mode": {
    "name": "ipython",
    "version": 3
   },
   "file_extension": ".py",
   "mimetype": "text/x-python",
   "name": "python",
   "nbconvert_exporter": "python",
   "pygments_lexer": "ipython3",
   "version": "3.8.13"
  },
  "orig_nbformat": 4
 },
 "nbformat": 4,
 "nbformat_minor": 2
}
