{
 "cells": [
  {
   "cell_type": "code",
   "execution_count": 5,
   "metadata": {},
   "outputs": [],
   "source": [
    "import cv2\n",
    "import numpy as np\n",
    "import pandas as pd\n",
    "import matplotlib.pyplot as plt\n",
    "import glob"
   ]
  },
  {
   "cell_type": "code",
   "execution_count": 2,
   "metadata": {},
   "outputs": [],
   "source": [
    "path = '/home/office5/Image_Code/Ketan_sir/try_connected_component/7.png'"
   ]
  },
  {
   "cell_type": "code",
   "execution_count": 3,
   "metadata": {},
   "outputs": [],
   "source": [
    "img = cv2.imread(path)\n",
    "gray = cv2.cvtColor(img, cv2.COLOR_BGR2GRAY)\n",
    "coords = np.column_stack(np.where(gray == 255))\n",
    "a = np.min(coords,axis=0)\n",
    "b = np.max(coords,axis=0)\n",
    "\n",
    "# print(gray)"
   ]
  },
  {
   "cell_type": "code",
   "execution_count": 4,
   "metadata": {},
   "outputs": [
    {
     "name": "stdout",
     "output_type": "stream",
     "text": [
      "0 28 15 48\n"
     ]
    }
   ],
   "source": [
    "y_min = a[0]\n",
    "x_min = a[1]\n",
    "y_max = b[0]\n",
    "x_max = b[1]\n",
    "\n",
    "print(y_min,x_min,y_max,x_max)"
   ]
  },
  {
   "cell_type": "code",
   "execution_count": 5,
   "metadata": {},
   "outputs": [
    {
     "data": {
      "text/plain": [
       "array([[ 0, 48],\n",
       "       [ 4, 28],\n",
       "       [15, 31]])"
      ]
     },
     "execution_count": 5,
     "metadata": {},
     "output_type": "execute_result"
    }
   ],
   "source": [
    "points = []\n",
    "\n",
    "points.append([coords[0][0] , coords[0][1]])\n",
    "\n",
    "for i in range(len(coords)):\n",
    "    if(x_min == coords[i][1]):\n",
    "        points.append([coords[i][0], coords[i][1]]) \n",
    "        break\n",
    "    else:\n",
    "        pass\n",
    "\n",
    "points.append([coords[-1][0] , coords[-1][1]])\n",
    "points = np.array(points)\n",
    "points"
   ]
  },
  {
   "cell_type": "code",
   "execution_count": 6,
   "metadata": {},
   "outputs": [
    {
     "data": {
      "text/plain": [
       "array([2744, 1872])"
      ]
     },
     "execution_count": 6,
     "metadata": {},
     "output_type": "execute_result"
    }
   ],
   "source": [
    "np.array([2744,1824]) + points[0]"
   ]
  },
  {
   "cell_type": "code",
   "execution_count": 4,
   "metadata": {},
   "outputs": [],
   "source": [
    "l = []\n",
    "for img1 in sorted(glob.glob('/home/office5/Image_Code/Ketan_sir/try_connected_component/*.png'), key=len):\n",
    "    if img1 != '/home/office5/Image_Code/Ketan_sir/try_connected_component/0.png':\n",
    "        img_name = img1.split('/')[-1]\n",
    "        img = cv2.imread(img1)\n",
    "        gray = cv2.cvtColor(img,cv2.COLOR_BGR2GRAY)\n",
    "        coords = np.column_stack(np.where(gray == 255))\n",
    "\n",
    "        a = np.min(coords,axis=0)\n",
    "        b = np.max(coords,axis=0)\n",
    "\n",
    "        y_min,x_min,y_max,x_max = a[0],a[1],b[0],b[1]\n",
    "\n",
    "        points = []\n",
    "        for i in range(len(coords)):\n",
    "            if(y_min == coords[i][0]):\n",
    "                pass\n",
    "            else:\n",
    "                points.append([coords[i-1][0], coords[i-1][1]]) \n",
    "                break\n",
    "\n",
    "        # points.append([coords[0][0] , coords[0][1]])\n",
    "        \n",
    "        for i in range(len(coords)):\n",
    "            if(x_min == coords[i][1]):\n",
    "                points.append([coords[i][0], coords[i][1]]) \n",
    "                break\n",
    "            else:\n",
    "                pass\n",
    "        points.append([coords[-1][0] , coords[-1][1]])\n",
    "        points = np.array(points)\n",
    "\n",
    "        l.append([img_name , points[0], points[1], points[2]])\n",
    "print(l)\n"
   ]
  },
  {
   "cell_type": "code",
   "execution_count": 1,
   "metadata": {},
   "outputs": [
    {
     "data": {
      "text/plain": [
       "18"
      ]
     },
     "execution_count": 1,
     "metadata": {},
     "output_type": "execute_result"
    }
   ],
   "source": [
    "a = [[12, 435], [25, 440], [70, 406], [77, 234], [113, 453], [129, 162], [231, 728], [232, 667], [233, 266], [237, 218], [240, 429], [242, 429], [257, 407], [262, 612], [262, 728], [262, 735], [333, 488], [340, 867]]\n",
    "len(a)"
   ]
  },
  {
   "cell_type": "code",
   "execution_count": 3,
   "metadata": {},
   "outputs": [
    {
     "data": {
      "text/plain": [
       "34"
      ]
     },
     "execution_count": 3,
     "metadata": {},
     "output_type": "execute_result"
    }
   ],
   "source": [
    "b = [[12, 435], [25, 440], [70, 406], [77, 234], [85, 497], [106, 42], [113, 453], [129, 162], [216, 248], [231, 728], [231, 735], [232, 667], [233, 266], [237, 218], [240, 240], [240, 429], [242, 429], [257, 407], [262, 612], [262, 728], [262, 735], [265, 671], [283, 761], [285, 495], [286, 413], [287, 212], [287, 298], [333, 488], [340, 867], [363, 871], [370, 509], [370, 531], [371, 400], [375, 574]]\n",
    "len(b)"
   ]
  },
  {
   "cell_type": "code",
   "execution_count": 3,
   "metadata": {},
   "outputs": [],
   "source": [
    "l = []\n",
    "for img1 in sorted(glob.glob('/home/office5/Image_Code/Ketan_sir/try_connected_component/*.png'), key=len):\n",
    "    if img1 != '/home/office5/Image_Code/Ketan_sir/try_connected_component/0.png':\n",
    "        img_name = img1.split('/')[-1]\n",
    "        img = cv2.imread(img1)\n",
    "        gray = cv2.cvtColor(img,cv2.COLOR_BGR2GRAY)\n",
    "        coords = np.column_stack(np.where(gray == 255))\n",
    "\n",
    "        a = np.min(coords,axis=0)\n",
    "        b = np.max(coords,axis=0)\n",
    "\n",
    "        y_min,x_min,y_max,x_max = a[0],a[1],b[0],b[1]\n",
    "\n",
    "        points = []\n",
    "        for i in range(len(coords)):\n",
    "            if(y_min == coords[i][0]):\n",
    "                pass\n",
    "            else:\n",
    "                points.append([coords[i-1][0], coords[i-1][1]]) \n",
    "                break\n",
    "\n",
    "        # points.append([coords[0][0] , coords[0][1]])\n",
    "        \n",
    "        for i in range(len(coords)):\n",
    "            if(x_min == coords[i][1]):\n",
    "                points.append([coords[i][0], coords[i][1]]) \n",
    "                break\n",
    "            else:\n",
    "                pass\n",
    "        points.append([coords[-1][0] , coords[-1][1]])\n",
    "        points = np.array(points)\n",
    "\n",
    "        # print(points[0],points[1],points[2])\n",
    "        l.append([img_name , points[0] + np.array([2744,1824]) , points[1] + np.array([2744,1824]) , points[2] + np.array([2744,1824])])\n",
    "print(l)"
   ]
  },
  {
   "cell_type": "code",
   "execution_count": 19,
   "metadata": {},
   "outputs": [],
   "source": [
    "import cv2\n",
    "import matplotlib.pyplot as plt"
   ]
  },
  {
   "cell_type": "code",
   "execution_count": 28,
   "metadata": {},
   "outputs": [
    {
     "data": {
      "image/png": "[encoded data removed]",
      "text/plain": [
       "<Figure size 432x288 with 1 Axes>"
      ]
     },
     "metadata": {
      "needs_background": "light"
     },
     "output_type": "display_data"
    }
   ],
   "source": [
    "img = cv2.imread('/home/office5/Image_Code/Ketan_sir/data/Anna2.bmp')\n",
    "img = img.astype(np.uint8)\n",
    "plt.imshow(img)\n",
    "plt.show()"
   ]
  },
  {
   "cell_type": "code",
   "execution_count": 29,
   "metadata": {},
   "outputs": [
    {
     "name": "stdout",
     "output_type": "stream",
     "text": [
      "[21 24 95]\n",
      "[19 25 95]\n",
      "[22 26 94]\n",
      "[19 25 95]\n",
      "[22 25 96]\n"
     ]
    }
   ],
   "source": [
    "print(img[2744][1880])\n",
    "print(img[2743][1879])\n",
    "print(img[2745][1879])\n",
    "print(img[2743][1881])\n",
    "print(img[2745][1881])"
   ]
  },
  {
   "cell_type": "code",
   "execution_count": 48,
   "metadata": {},
   "outputs": [
    {
     "data": {
      "text/plain": [
       "array([[1],\n",
       "       [1],\n",
       "       [1]], dtype=uint8)"
      ]
     },
     "execution_count": 48,
     "metadata": {},
     "output_type": "execute_result"
    }
   ],
   "source": [
    "# while(img[2744][1830])\n",
    "img_diff = cv2.absdiff(img[2744][1880], img[2745][1881])\n",
    "img_diff\n",
    "\n",
    "# a = np.array([21, 24, 95])\n",
    "# b = np.array([19, 25, 95])\n",
    "# a-b"
   ]
  },
  {
   "cell_type": "code",
   "execution_count": 154,
   "metadata": {},
   "outputs": [
    {
     "name": "stdout",
     "output_type": "stream",
     "text": [
      "[3013 2052]\n",
      "[55 72 76]\n",
      "a [[29]\n",
      " [27]\n",
      " [27]]\n",
      "b [[ 5]\n",
      " [24]\n",
      " [40]]\n",
      "c [[48]\n",
      " [48]\n",
      " [48]]\n",
      "d [[55]\n",
      " [47]\n",
      " [30]]\n"
     ]
    },
    {
     "data": {
      "text/plain": [
       "(array([29, 27, 27], dtype=uint8),\n",
       " array([[ 5],\n",
       "        [24],\n",
       "        [40]], dtype=uint8),\n",
       " array([[48],\n",
       "        [48],\n",
       "        [48]], dtype=uint8),\n",
       " array([[55],\n",
       "        [47],\n",
       "        [30]], dtype=uint8))"
      ]
     },
     "execution_count": 154,
     "metadata": {},
     "output_type": "execute_result"
    }
   ],
   "source": [
    "origin_img = cv2.imread('/home/office5/Image_Code/Ketan_sir/data/Anna2.bmp')\n",
    "a = cv2.absdiff(origin_img[points[0][0]][points[0][1]],origin_img[points[0][0]-1][points[0][1]-1])\n",
    "b = cv2.absdiff(origin_img[points[0][0]][points[0][1]],origin_img[points[0][0]+1][points[0][1]-1])\n",
    "c = cv2.absdiff(origin_img[points[0][0]][points[0][1]],origin_img[points[0][0]-1][points[0][1]+1])\n",
    "d = cv2.absdiff(origin_img[points[0][0]][points[0][1]],origin_img[points[0][0]+1][points[0][1]+1])\n",
    "print(points[0])\n",
    "print(origin_img[points[0][0]] [points[0][1]])\n",
    "print(\"a\",a)\n",
    "print(\"b\",b)\n",
    "print(\"c\",c)\n",
    "print(\"d\",d)\n",
    "\n",
    "a = a[a>10]\n",
    "b = b[a>10]\n",
    "c = c[a>10]\n",
    "d = d[a>10]\n",
    "\n",
    "a,b,c,d"
   ]
  },
  {
   "cell_type": "code",
   "execution_count": 101,
   "metadata": {},
   "outputs": [
    {
     "name": "stdout",
     "output_type": "stream",
     "text": [
      "True\n"
     ]
    }
   ],
   "source": []
  },
  {
   "cell_type": "code",
   "execution_count": 176,
   "metadata": {},
   "outputs": [
    {
     "name": "stdout",
     "output_type": "stream",
     "text": [
      "[41 42 94]\n",
      "[63 63 77]\n",
      "[75 73 85]\n",
      "[23 24 88]\n",
      "[29 30 82]\n"
     ]
    }
   ],
   "source": [
    "print(origin_img[2744][1830])\n",
    "print(origin_img[2743][1829])\n",
    "print(origin_img[2745][1829])\n",
    "print(origin_img[2743][1831])\n",
    "print(origin_img[2745][1831])"
   ]
  },
  {
   "cell_type": "code",
   "execution_count": 190,
   "metadata": {},
   "outputs": [],
   "source": [
    "l = []\n",
    "origin_img = cv2.imread('/home/office5/Image_Code/Ketan_sir/data/Anna2.bmp')\n",
    "for img1 in sorted(glob.glob('/home/office5/Image_Code/Ketan_sir/try_connected_component/*.png'), key=len):\n",
    "    if img1 != '/home/office5/Image_Code/Ketan_sir/try_connected_component/0.png':\n",
    "        img_name = img1.split('/')[-1]\n",
    "        img = cv2.imread(img1)\n",
    "        gray = cv2.cvtColor(img,cv2.COLOR_BGR2GRAY)\n",
    "        coords = np.column_stack(np.where(gray == 255))\n",
    "\n",
    "        a = np.min(coords,axis=0)\n",
    "        b = np.max(coords,axis=0)\n",
    "\n",
    "        y_min,x_min,y_max,x_max = a[0],a[1],b[0],b[1]\n",
    "\n",
    "        points = []\n",
    "        for i in range(len(coords)):\n",
    "            if(y_min == coords[i][0]):\n",
    "                pass\n",
    "            else:\n",
    "                points.append([coords[i-1][0], coords[i-1][1]]) \n",
    "                break\n",
    "\n",
    "        # points.append([coords[0][0] , coords[0][1]])\n",
    "        \n",
    "        for i in range(len(coords)):\n",
    "            if(x_min == coords[i][1]):\n",
    "                points.append([coords[i][0], coords[i][1]]) \n",
    "                break\n",
    "            else:\n",
    "                pass\n",
    "        points.append([coords[-1][0] , coords[-1][1]])\n",
    "        points = np.array(points)\n",
    "\n",
    "        points[0] = points[0] + np.array([2744,1824]) \n",
    "        points[1] = points[1] + np.array([2744,1824]) \n",
    "        points[2] = points[2] + np.array([2744,1824])\n",
    "\n",
    "        for i in range(3):\n",
    "            try:\n",
    "                # print(points[0], points[1], points[2])\n",
    "                a = cv2.absdiff(origin_img[points[i][0]][points[i][1]],origin_img[points[i][0]-1][points[i][1]-1])\n",
    "                b = cv2.absdiff(origin_img[points[i][0]][points[i][1]],origin_img[points[i][0]+1][points[i][1]-1])\n",
    "                c = cv2.absdiff(origin_img[points[i][0]][points[i][1]],origin_img[points[i][0]-1][points[i][1]+1])\n",
    "                d = cv2.absdiff(origin_img[points[i][0]][points[i][1]],origin_img[points[i][0]+1][points[i][1]+1])\n",
    "\n",
    "                if( a.sum() > 40 or b.sum() > 40  or c.sum() > 40 or d.sum() > 40 ):\n",
    "                    l.append([img_name, points[i]])\n",
    "\n",
    "                # print(img_name,a.sum(),points[i])\n",
    "                \n",
    "            except:\n",
    "                pass\n",
    "        # break\n"
   ]
  },
  {
   "cell_type": "code",
   "execution_count": 1,
   "metadata": {},
   "outputs": [],
   "source": [
    "# print(len(l))\n",
    "# print(l)"
   ]
  },
  {
   "cell_type": "code",
   "execution_count": 200,
   "metadata": {},
   "outputs": [],
   "source": [
    "l = []\n",
    "origin_img = cv2.imread('/home/office5/Image_Code/Ketan_sir/data/Anna2.bmp',0)\n",
    "for img1 in sorted(glob.glob('/home/office5/Image_Code/Ketan_sir/try_connected_component/*.png'), key=len):\n",
    "    if img1 != '/home/office5/Image_Code/Ketan_sir/try_connected_component/0.png':\n",
    "        img_name = img1.split('/')[-1]\n",
    "        img = cv2.imread(img1)\n",
    "        gray = cv2.cvtColor(img,cv2.COLOR_BGR2GRAY)\n",
    "        coords = np.column_stack(np.where(gray == 255))\n",
    "\n",
    "        a = np.min(coords,axis=0)\n",
    "        b = np.max(coords,axis=0)\n",
    "\n",
    "        y_min,x_min,y_max,x_max = a[0],a[1],b[0],b[1]\n",
    "\n",
    "        points = []\n",
    "        for i in range(len(coords)):\n",
    "            if(y_min == coords[i][0]):\n",
    "                pass\n",
    "            else:\n",
    "                points.append([coords[i-1][0], coords[i-1][1]]) \n",
    "                break\n",
    "\n",
    "        # points.append([coords[0][0] , coords[0][1]])\n",
    "        \n",
    "        for i in range(len(coords)):\n",
    "            if(x_min == coords[i][1]):\n",
    "                points.append([coords[i][0], coords[i][1]]) \n",
    "                break\n",
    "            else:\n",
    "                pass\n",
    "        points.append([coords[-1][0] , coords[-1][1]])\n",
    "        points = np.array(points)\n",
    "\n",
    "        points[0] = points[0] + np.array([2744,1824]) \n",
    "        points[1] = points[1] + np.array([2744,1824]) \n",
    "        points[2] = points[2] + np.array([2744,1824])\n",
    "\n",
    "        for i in range(3):\n",
    "            try:\n",
    "                \n",
    "                ## Here difference between left corner up and bottom corner down\n",
    "                cor_left_up = cv2.absdiff(origin_img[points[i][0]-1][points[i][1]-1],origin_img[points[i][0]+1][points[i][1]+1])\n",
    "                \n",
    "                ## Here difference between left corner down and top corner up\n",
    "                cor_left_down = cv2.absdiff(origin_img[points[i][0]+1][points[i][1]-1],origin_img[points[i][0]-1][points[i][1]+1])\n",
    "\n",
    "                ## Here difference between up and down from extreme points\n",
    "                upp_down_a = cv2.absdiff(origin_img[points[i][0]][points[i][1]-1],origin_img[points[i][0]][points[i][1]+1])\n",
    "                \n",
    "                # Here difference between left and right from extremen points\n",
    "                left_right_b = cv2.absdiff(origin_img[points[i][0]-1][points[i][1]],origin_img[points[i][0]+1][points[i][1]])\n",
    "\n",
    "                print(img_name,points[i],upp_down_a,left_right_b)\n",
    "                # if (upp_down_a.sum() > 5):\n",
    "            except:\n",
    "                pass\n",
    "        # break\n"
   ]
  },
  {
   "cell_type": "code",
   "execution_count": 9,
   "metadata": {},
   "outputs": [],
   "source": [
    "import cv2\n",
    "import glob\n",
    "import numpy as np\n",
    "import matplotlib.pyplot as plt\n",
    "import math\n",
    "import yaml\n",
    "import os"
   ]
  },
  {
   "cell_type": "code",
   "execution_count": 10,
   "metadata": {},
   "outputs": [
    {
     "name": "stdout",
     "output_type": "stream",
     "text": [
      "(392, 912)\n"
     ]
    }
   ],
   "source": [
    "origin_img = cv2.imread('/home/office5/Image_Code/Ketan_sir/data/Anna2.bmp',0)\n",
    "thresh = cv2.threshold(origin_img,45,255,cv2.THRESH_BINARY)[1]\n",
    "\n",
    "\n",
    "\n",
    "CONFIG_PATH = \"/home/office5/Image_Code/Ketan_sir\"\n",
    "\n",
    "def load_config(config_name):\n",
    "    with open(os.path.join(CONFIG_PATH, config_name)) as file:\n",
    "        config = yaml.safe_load(file)\n",
    "    return config\n",
    "\n",
    "config = load_config(\"config.yaml\")\n",
    "\n",
    "# # Setting All parameters\n",
    "t_lower = 100  # Lower Threshold\n",
    "t_upper = 200  # Upper threshold\n",
    "aperture_size = 7  # Aperture size\n",
    "L2Gradient = True\n",
    "    \n",
    "# # Applying the Canny Edge filter\n",
    "# # with Custom Aperture Size\n",
    "edge = cv2.Canny(thresh, t_lower, t_upper, L2gradient = L2Gradient)\n",
    "y, x = edge.shape\n",
    "\n",
    "n = 8\n",
    "start_x = 2\n",
    "start_y = 7\n",
    "edge1 = origin_img[2744:3136,1824:2736]\n",
    "print(edge1.shape)\n",
    "# show(edge1)\n",
    "start_x1 = start_x * x // n\n",
    "end_x1 = (start_x + 1) * x // n\n",
    "start_y1 = start_y * y // n\n",
    "end_y1 = (start_y + 1) * y // n\n",
    "height,width = end_y1 - start_y1,end_x1 - start_x1\n",
    "# print(start_x1,start_y1)\n",
    "\n",
    "l = []\n",
    "x = []\n",
    "y = []\n",
    "right_angle_point = []\n",
    "first_block, second_block, third_block, fourth_block = [],[],[],[]\n",
    "all_point = []"
   ]
  },
  {
   "cell_type": "code",
   "execution_count": 11,
   "metadata": {},
   "outputs": [
    {
     "name": "stdout",
     "output_type": "stream",
     "text": [
      "1.png [[21]] [[25]] [2850 1866]\n",
      "68.png [[35]] [[36]] [2856 2278]\n",
      "37.png [[36]] [[47]] [2744 2398]\n",
      "37.png [[44]] [[21]] [2795 2350]\n",
      "37.png [[44]] [[21]] [2795 2350]\n",
      "45.png [[56]] [[24]] [2775 2283]\n",
      "40.png [[47]] [[36]] [2744 2451]\n",
      "40.png [[56]] [[27]] [2748 2416]\n",
      "18.png [[21]] [[47]] [2744 2009]\n",
      "69.png [[30]] [[42]] [2777 1852]\n",
      "35.png [[58]] [[49]] [2744 2376]\n",
      "71.png [[30]] [[42]] [2777 1852]\n",
      "81.png [[45]] [[32]] [2789 2265]\n",
      "64.png [[39]] [[48]] [2857 2277]\n",
      "32.png [[58]] [[49]] [2744 2376]\n",
      "32.png [[28]] [[38]] [2747 2341]\n",
      "32.png [[60]] [[21]] [2753 2358]\n",
      "98.png [[48]] [[25]] [2832 2072]\n",
      "78.png [[42]] [[28]] [2784 2735]\n",
      "58.png [[40]] [[24]] [2867 1845]\n",
      "22.png [[47]] [[68]] [2744 2008]\n",
      "77.png [[43]] [[38]] [2800 2219]\n",
      "91.png [[44]] [[21]] [2797 2146]\n",
      "83.png [[42]] [[28]] [2784 2735]\n",
      "60.png [[55]] [[32]] [2789 2241]\n",
      "59.png [[29]] [[45]] [2778 2215]\n",
      "59.png [[56]] [[24]] [2790 2239]\n",
      "134.png [[52]] [[54]] [2883 2109]\n",
      "190.png [[61]] [[29]] [2950 2585]\n",
      "190.png [[56]] [[23]] [3034 2587]\n",
      "201.png [[61]] [[33]] [2952 2304]\n",
      "201.png [[59]] [[42]] [3036 2302]\n",
      "465.png [[36]] [[40]] [3077 2312]\n",
      "465.png [[36]] [[40]] [3077 2312]\n",
      "447.png [[37]] [[21]] [3088 2373]\n",
      "155.png [[52]] [[36]] [3038 2019]\n",
      "186.png [[57]] [[38]] [2951 2541]\n",
      "186.png [[61]] [[29]] [2951 2540]\n",
      "242.png [[54]] [[40]] [2956 2172]\n",
      "242.png [[54]] [[40]] [2956 2172]\n",
      "454.png [[36]] [[40]] [3077 2312]\n",
      "454.png [[65]] [[38]] [3121 2320]\n",
      "224.png [[49]] [[29]] [2955 2099]\n",
      "224.png [[50]] [[25]] [2955 2098]\n",
      "455.png [[37]] [[21]] [3088 2373]\n",
      "187.png [[60]] [[35]] [2950 2565]\n",
      "187.png [[42]] [[50]] [2977 2562]\n",
      "245.png [[26]] [[42]] [3001 2231]\n",
      "246.png [[25]] [[31]] [3029 2319]\n",
      "102.png [[34]] [[50]] [2815 2071]\n",
      "297.png [[52]] [[38]] [3006 2559]\n",
      "297.png [[37]] [[34]] [3006 2552]\n",
      "297.png [[56]] [[23]] [3035 2571]\n",
      "273.png [[35]] [[46]] [3030 2237]\n",
      "511.png [[50]] [[41]] [3119 2358]\n",
      "307.png [[55]] [[27]] [3036 2185]\n",
      "244.png [[35]] [[46]] [3030 2237]\n",
      "458.png [[49]] [[23]] [3120 2289]\n",
      "285.png [[52]] [[33]] [3006 2436]\n",
      "285.png [[53]] [[36]] [3009 2495]\n",
      "277.png [[52]] [[33]] [3006 2436]\n",
      "277.png [[53]] [[36]] [3009 2495]\n",
      "255.png [[31]] [[71]] [2964 2274]\n",
      "255.png [[49]] [[37]] [3036 2277]\n",
      "160.png [[62]] [[29]] [2953 2125]\n",
      "317.png [[48]] [[22]] [3038 2076]\n",
      "301.png [[40]] [[79]] [3030 2015]\n",
      "301.png [[48]] [[29]] [3038 2039]\n",
      "489.png [[23]] [[36]] [3102 2700]\n",
      "427.png [[64]] [[41]] [3052 2379]\n",
      "427.png [[64]] [[41]] [3052 2379]\n",
      "427.png [[27]] [[69]] [3088 2396]\n",
      "283.png [[45]] [[48]] [2999 2177]\n",
      "321.png [[34]] [[35]] [3023 2521]\n",
      "321.png [[55]] [[37]] [3031 2512]\n",
      "243.png [[28]] [[21]] [3030 2204]\n",
      "413.png [[62]] [[38]] [3122 2212]\n",
      "256.png [[53]] [[88]] [2966 2225]\n",
      "256.png [[43]] [[80]] [2967 2223]\n",
      "256.png [[36]] [[69]] [2987 2232]\n",
      "429.png [[58]] [[37]] [3051 2378]\n",
      "429.png [[58]] [[37]] [3051 2378]\n",
      "429.png [[44]] [[84]] [3080 2394]\n",
      "310.png [[49]] [[22]] [3036 2588]\n",
      "303.png [[46]] [[63]] [3010 2376]\n",
      "303.png [[56]] [[48]] [3035 2372]\n",
      "303.png [[63]] [[36]] [3036 2389]\n",
      "218.png [[51]] [[34]] [2954 2021]\n",
      "218.png [[41]] [[23]] [3039 2021]\n",
      "424.png [[56]] [[30]] [3052 2357]\n",
      "430.png [[59]] [[45]] [3054 2378]\n",
      "430.png [[59]] [[45]] [3054 2378]\n",
      "430.png [[51]] [[49]] [3119 2398]\n",
      "263.png [[42]] [[36]] [2976 2491]\n",
      "263.png [[63]] [[66]] [2990 2519]\n",
      "100.png [[48]] [[54]] [2814 2230]\n",
      "205.png [[60]] [[51]] [2953 2302]\n",
      "205.png [[56]] [[30]] [3037 2304]\n",
      "433.png [[36]] [[44]] [3114 2355]\n",
      "149.png [[67]] [[24]] [2949 2420]\n",
      "300.png [[40]] [[46]] [3009 2343]\n",
      "300.png [[64]] [[38]] [3036 2353]\n",
      "432.png [[33]] [[39]] [3114 2333]\n",
      "279.png [[32]] [[48]] [3018 2410]\n",
      "509.png [[56]] [[22]] [3120 2323]\n",
      "509.png [[54]] [[35]] [3120 2336]\n",
      "457.png [[42]] [[36]] [3076 2260]\n",
      "435.png [[46]] [[34]] [3053 2377]\n",
      "435.png [[46]] [[34]] [3053 2377]\n",
      "435.png [[52]] [[32]] [3119 2397]\n",
      "157.png [[58]] [[26]] [2952 2169]\n",
      "264.png [[33]] [[21]] [2977 2090]\n",
      "146.png [[54]] [[53]] [2975 2552]\n",
      "146.png [[50]] [[26]] [2975 2559]\n",
      "524.png [[41]] [[32]] [3119 2336]\n",
      "148.png [[72]] [[32]] [2950 2351]\n",
      "161.png [[60]] [[39]] [2954 2173]\n",
      "161.png [[23]] [[62]] [2965 2185]\n",
      "109.png [[50]] [[50]] [2813 2230]\n",
      "431.png [[32]] [[35]] [3115 2224]\n",
      "294.png [[58]] [[21]] [3034 2532]\n",
      "294.png [[56]] [[34]] [3034 2546]\n",
      "252.png [[34]] [[58]] [2960 2241]\n",
      "252.png [[36]] [[82]] [2978 2233]\n",
      "252.png [[27]] [[73]] [2985 2233]\n",
      "295.png [[58]] [[31]] [3035 2305]\n",
      "191.png [[56]] [[31]] [2953 2100]\n",
      "191.png [[54]] [[24]] [2953 2099]\n",
      "274.png [[32]] [[36]] [2976 2461]\n",
      "274.png [[43]] [[46]] [2978 2436]\n",
      "274.png [[65]] [[53]] [2981 2460]\n",
      "287.png [[53]] [[57]] [2997 2401]\n",
      "287.png [[44]] [[74]] [3011 2406]\n",
      "529.png [[48]] [[31]] [3120 2266]\n",
      "496.png [[52]] [[53]] [3119 2359]\n",
      "496.png [[52]] [[53]] [3119 2359]\n",
      "267.png [[32]] [[36]] [2976 2461]\n",
      "267.png [[43]] [[46]] [2978 2436]\n",
      "306.png [[49]] [[62]] [3012 2152]\n",
      "306.png [[50]] [[21]] [3037 2133]\n",
      "107.png [[41]] [[39]] [2821 2058]\n",
      "107.png [[41]] [[58]] [2854 2030]\n",
      "204.png [[69]] [[43]] [2953 2267]\n",
      "204.png [[60]] [[40]] [2955 2266]\n",
      "204.png [[49]] [[24]] [3038 2277]\n",
      "451.png [[54]] [[42]] [3120 2290]\n",
      "451.png [[54]] [[42]] [3120 2290]\n",
      "299.png [[40]] [[46]] [3009 2343]\n",
      "299.png [[52]] [[24]] [3009 2341]\n",
      "299.png [[68]] [[47]] [3035 2351]\n",
      "268.png [[63]] [[66]] [2990 2519]\n",
      "230.png [[67]] [[44]] [2954 2215]\n",
      "230.png [[57]] [[40]] [2956 2214]\n",
      "230.png [[36]] [[69]] [2987 2232]\n",
      "360.png [[55]] [[22]] [3034 2427]\n",
      "360.png [[59]] [[32]] [3034 2426]\n",
      "437.png [[23]] [[60]] [3102 2212]\n",
      "213.png [[22]] [[61]] [2973 2466]\n",
      "239.png [[21]] [[48]] [3027 2585]\n",
      "314.png [[39]] [[84]] [3018 2213]\n",
      "314.png [[39]] [[84]] [3018 2213]\n",
      "314.png [[55]] [[24]] [3038 2226]\n",
      "216.png [[22]] [[61]] [2973 2466]\n",
      "184.png [[49]] [[49]] [2950 2562]\n",
      "184.png [[41]] [[76]] [2958 2548]\n",
      "115.png [[41]] [[39]] [2821 2058]\n",
      "158.png [[51]] [[33]] [2953 2023]\n",
      "412.png [[56]] [[22]] [3051 2260]\n",
      "412.png [[56]] [[30]] [3052 2357]\n",
      "135.png [[52]] [[54]] [2883 2109]\n",
      "249.png [[25]] [[44]] [3031 2123]\n",
      "105.png [[24]] [[45]] [2819 2014]\n",
      "312.png [[34]] [[60]] [3014 2212]\n",
      "312.png [[52]] [[28]] [3036 2193]\n",
      "312.png [[49]] [[25]] [3037 2207]\n",
      "221.png [[50]] [[33]] [2954 2067]\n",
      "221.png [[39]] [[51]] [2981 2042]\n",
      "221.png [[43]] [[54]] [2984 2064]\n",
      "305.png [[40]] [[52]] [3013 2052]\n"
     ]
    },
    {
     "data": {
      "text/plain": [
       "True"
      ]
     },
     "execution_count": 11,
     "metadata": {},
     "output_type": "execute_result"
    }
   ],
   "source": [
    "l = []\n",
    "x = []\n",
    "y = []\n",
    "origin_img = cv2.imread('/home/office5/Image_Code/Ketan_sir/data/Anna2.bmp',0)\n",
    "for img1 in sorted(glob.glob('/home/office5/Image_Code/Ketan_sir/try_connected_component/*.png'), key=len):\n",
    "    if img1 != '/home/office5/Image_Code/Ketan_sir/try_connected_component/0.png':\n",
    "        img_name = img1.split('/')[-1]\n",
    "        img = cv2.imread(img1)\n",
    "        gray = cv2.cvtColor(img,cv2.COLOR_BGR2GRAY)\n",
    "        coords = np.column_stack(np.where(gray == 255))\n",
    "\n",
    "        a = np.min(coords,axis=0)\n",
    "        b = np.max(coords,axis=0)\n",
    "\n",
    "        y_min,x_min,y_max,x_max = a[0],a[1],b[0],b[1]\n",
    "\n",
    "        points = []\n",
    "        for i in range(len(coords)):\n",
    "            if(y_min == coords[i][0]):\n",
    "                pass\n",
    "            else:\n",
    "                points.append([coords[i-1][0], coords[i-1][1]]) \n",
    "                break\n",
    "\n",
    "        # points.append([coords[0][0] , coords[0][1]])\n",
    "        \n",
    "        for i in range(len(coords)):\n",
    "            if(x_min == coords[i][1]):\n",
    "                points.append([coords[i][0], coords[i][1]]) \n",
    "                break\n",
    "            else:\n",
    "                pass\n",
    "        points.append([coords[-1][0] , coords[-1][1]])\n",
    "        points = np.array(points)\n",
    "\n",
    "        points[0] = points[0] + np.array([2744,1824]) \n",
    "        points[1] = points[1] + np.array([2744,1824]) \n",
    "        points[2] = points[2] + np.array([2744,1824])\n",
    "\n",
    "        # print(points[0], points[1], points[2])\n",
    "\n",
    "        # print(origin_img[points[0][0]][points[0][1]])\n",
    "        # print(origin_img[points[0][0]][points[0][1]-1])\n",
    "        # print(origin_img[points[0][0]][points[0][1]+1])\n",
    "        # print(cv2.absdiff(origin_img[points[0][0]][points[0][1]-1],origin_img[points[0][0]][points[0][1]+1]))\n",
    "\n",
    "        for i in range(3):\n",
    "            try:\n",
    "        # #         ## Here difference between left corner up and bottom corner down\n",
    "        # #     cor_left_up = cv2.absdiff(origin_img[points[i][0]-1][points[i][1]-1],origin_img[points[i][0]+1][points[i][1]+1])\n",
    "            \n",
    "        # #     ## Here difference between left corner down and top corner up\n",
    "        # #     cor_left_down = cv2.absdiff(origin_img[points[i][0]+1][points[i][1]-1],origin_img[points[i][0]-1][points[i][1]+1])\n",
    "\n",
    "        # #     ## Here difference between up and down from extreme points\n",
    "                upp_down_a = cv2.absdiff(np.array(origin_img[points[i][0]-1][points[i][1]]) , np.array(origin_img[points[i][0]+1][points[i][1]]))\n",
    "        #     # Here difference between left and right from extremen points\n",
    "                left_right_b = cv2.absdiff(np.array(origin_img[points[i][0]][points[i][1]-1]),np.array(origin_img[points[i][0]][points[i][1]+1]))\n",
    "\n",
    "                if(upp_down_a>20 and left_right_b>20):\n",
    "                    print(img_name,upp_down_a,left_right_b,points[i])\n",
    "                    # points[i] = 128\n",
    "                    edge1[points[i][0],points[i][1]]=255\n",
    "                \n",
    "                    x.append(points[i][0])\n",
    "                    y.append(points[i][1])\n",
    "\n",
    "            except:\n",
    "                pass\n",
    "cv2.imwrite('green_point.png',edge1)\n"
   ]
  }
 ],
 "metadata": {
  "interpreter": {
   "hash": "df0893f56f349688326838aaeea0de204df53a132722cbd565e54b24a8fec5f6"
  },
  "kernelspec": {
   "display_name": "Python 3.8.13 64-bit",
   "language": "python",
   "name": "python3"
  },
  "language_info": {
   "codemirror_mode": {
    "name": "ipython",
    "version": 3
   },
   "file_extension": ".py",
   "mimetype": "text/x-python",
   "name": "python",
   "nbconvert_exporter": "python",
   "pygments_lexer": "ipython3",
   "version": "3.8.13"
  },
  "orig_nbformat": 4
 },
 "nbformat": 4,
 "nbformat_minor": 2
}
