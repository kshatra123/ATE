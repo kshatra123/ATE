{
 "cells": [
  {
   "cell_type": "code",
   "execution_count": 27,
   "metadata": {},
   "outputs": [],
   "source": [
    "import cv2\n",
    "import numpy as np\n",
    "import matplotlib.pyplot as plt\n",
    "import yaml\n",
    "import os\n",
    "import glob"
   ]
  },
  {
   "cell_type": "code",
   "execution_count": 28,
   "metadata": {},
   "outputs": [
    {
     "data": {
      "text/plain": [
       "{'l_thresh': 25,\n",
       " 'u_thresh': 245,\n",
       " 't_lower': 100,\n",
       " 't_upper': 200,\n",
       " 'L2Gradient': True,\n",
       " 'connectivity': 4,\n",
       " 'get_pixel_img1': 5,\n",
       " 'get_pixel_img2': 10,\n",
       " 'get_kernel_size_value': 1,\n",
       " 'debug': False,\n",
       " 'y_size': 200,\n",
       " 'x_size': 500}"
      ]
     },
     "execution_count": 28,
     "metadata": {},
     "output_type": "execute_result"
    }
   ],
   "source": [
    "CONFIG_PATH = \"/home/office5/ATE/Ketan_sir/\"\n",
    "def load_config(config_name):\n",
    "    with open(os.path.join(CONFIG_PATH, config_name)) as file:\n",
    "        config = yaml.safe_load(file)\n",
    "    return config\n",
    "\n",
    "config = load_config(\"config.yaml\")\n",
    "config"
   ]
  },
  {
   "cell_type": "code",
   "execution_count": 29,
   "metadata": {},
   "outputs": [],
   "source": [
    "def show(img):\n",
    "    plt.figure(figsize = (15,12))\n",
    "    plt.imshow(img)\n",
    "    plt.show()"
   ]
  },
  {
   "cell_type": "code",
   "execution_count": 30,
   "metadata": {},
   "outputs": [],
   "source": [
    "def get_edge_image(img1):\n",
    "    thresh = cv2.threshold(img1,config['l_thresh'],config['u_thresh'],cv2.THRESH_BINARY)[1]\n",
    "    edge = cv2.Canny(thresh, config['t_lower'], config['t_upper'], L2gradient = config['L2Gradient'])\n",
    "    return edge\n",
    "\n",
    "def get_connected_comp_img(edge):\n",
    "    lst_component = []\n",
    "    output = cv2.connectedComponentsWithStats(edge, config['connectivity'], cv2.CV_32S)\n",
    "    (numLabels, labels, stats, centroids) = output\n",
    "\n",
    "    # loop over the number of unique connected component labels\n",
    "    for i in range(0, numLabels):\n",
    "        if i == 0:\n",
    "            text = \"examining component {}/{} (background)\".format(\n",
    "                i + 1, numLabels)\n",
    "        else:\n",
    "            text = \"examining component {}/{}\".format( i + 1, numLabels)\n",
    "        w_ = stats[i, cv2.CC_STAT_WIDTH]\n",
    "        h_ = stats[i, cv2.CC_STAT_HEIGHT]\n",
    "        area = stats[i, cv2.CC_STAT_AREA]\n",
    "        (cX, cY) = centroids[i]\n",
    "\n",
    "        keepWidth = w_ > 2\n",
    "        keepHeight = h_ > 2\n",
    "        keepArea = area > 50\n",
    "\n",
    "        if all((keepWidth, keepHeight, keepArea)):\n",
    "            componentMask = (labels == i).astype(\"uint8\") * 255\n",
    "            color_img  = cv2.cvtColor(componentMask,cv2.COLOR_GRAY2BGR)\n",
    "            lst_component.append(color_img)\n",
    "    return lst_component"
   ]
  },
  {
   "cell_type": "code",
   "execution_count": 41,
   "metadata": {},
   "outputs": [],
   "source": [
    "def get_extreme_point(all_component_image):\n",
    "\n",
    "    extr_point = []\n",
    "\n",
    "    for i in range(1,len(all_component_image)):\n",
    "        gray = cv2.cvtColor(all_component_image[i],cv2.COLOR_BGR2GRAY)\n",
    "        coords = np.column_stack(np.where(gray == 255))\n",
    "\n",
    "        # print(coords)\n",
    "        a = np.min(coords,axis=0)\n",
    "        b = np.max(coords,axis=0)\n",
    "\n",
    "        y_min,x_min,y_max,x_max = a[0],a[1],b[0],b[1]\n",
    "\n",
    "        points = []\n",
    "            \n",
    "        # for i in range(len(coords)):\n",
    "        #     if(x_min == coords[i][1]):\n",
    "        #         points.append([coords[i][0], coords[i][1]]) \n",
    "        #         break\n",
    "        #     else:\n",
    "        #         pass\n",
    "        points.append([coords[0][0] , coords[0][1]])\n",
    "        points.append([coords[-1][0] , coords[-1][1]])\n",
    "        points = np.array(points)\n",
    "\n",
    "        for i in range(2):\n",
    "            extr_point.append([points[i][0], points[i][1]])\n",
    "\n",
    "    return extr_point\n",
    "        \n"
   ]
  },
  {
   "cell_type": "code",
   "execution_count": 42,
   "metadata": {},
   "outputs": [],
   "source": [
    "def set_kernel(ori_gray, extreme_point_arr, set_kernel_value):\n",
    "\n",
    "    y1_s = extreme_point_arr[0] - config['get_kernel_size_value']\n",
    "    y2_s = extreme_point_arr[0] + config['get_kernel_size_value']\n",
    "    x1_s = extreme_point_arr[1] - config['get_kernel_size_value']\n",
    "    x2_s = extreme_point_arr[1] + config['get_kernel_size_value']\n",
    "\n",
    "    try:\n",
    "        kernel_value =  ori_gray[y1_s:y2_s + 1,x1_s:x2_s + 1]\n",
    "        \n",
    "        for i in range(len(kernel_value[0])):\n",
    "            for j in range(len(kernel_value[1])):\n",
    "                set_kernel_value[i][j] = (np.subtract(int(kernel_value[config['get_kernel_size_value']][config['get_kernel_size_value']]),int(kernel_value[i][j])))\n",
    "                set_kernel_value[config['get_kernel_size_value']][config['get_kernel_size_value']] = 5 \n",
    "                if(set_kernel_value[i][j]==0):\n",
    "                    set_kernel_value[i][j] = 1\n",
    "                elif(set_kernel_value[i][j]<0):\n",
    "                    set_kernel_value[i][j] = 0\n",
    "                else:\n",
    "                    set_kernel_value[i][j] = 1\n",
    "    except:\n",
    "        set_kernel_value = np.zeros((3,3))\n",
    "    return set_kernel_value"
   ]
  },
  {
   "cell_type": "code",
   "execution_count": 43,
   "metadata": {},
   "outputs": [],
   "source": [
    "def get_removed_extreme_point(ori_gray, all_extreme_point):\n",
    "\n",
    "    final_extreme_point_list = []\n",
    "    dict1 = {}\n",
    "    kernel_shape = (config['get_kernel_size_value'] * 2) + 1 ## 1->3 2->5 3->7 kerenl_size\n",
    "    m = 0\n",
    "    dict1 = {}\n",
    "    for i in range(len(all_extreme_point)):\n",
    "        extreme_point_arr = np.array(all_extreme_point[i])\n",
    "        zero_kernel_arr = np.zeros((kernel_shape,kernel_shape))\n",
    "        kernel_value = set_kernel(ori_gray,extreme_point_arr,zero_kernel_arr)\n",
    "        unique_1_0 = np.unique(kernel_value,return_counts=True)\n",
    "        if len(unique_1_0[0])==3:\n",
    "            count_0 = unique_1_0[1][0]\n",
    "            count_1 = unique_1_0[1][1]\n",
    "            dict1['0'] = count_0\n",
    "            dict1['1'] = count_1\n",
    "            if (count_0==3 and count_1==5) or (count_0==5 and count_1==3):\n",
    "                corner_1 = kernel_value[0][0]\n",
    "                corner_2 = kernel_value[0][kernel_shape-1]\n",
    "                corner_3 = kernel_value[kernel_shape-1][0]\n",
    "                corner_4 = kernel_value[kernel_shape-1][kernel_shape-1]\n",
    "                try:\n",
    "                    corner_point = np.array([corner_1,corner_2,corner_3,corner_4])\n",
    "                    for key, value in dict1.items():\n",
    "                        if value == 3:\n",
    "                            corner_index = np.where(corner_point==int(key)) \n",
    "\n",
    "                            if corner_index[0][0] == 0:\n",
    "                                x,y = 0,0\n",
    "                                if (kernel_value[x][y]==int(key) and kernel_value[x+1][y]==int(key) and kernel_value[x][y+1]==int(key)):\n",
    "                                    final_extreme_point_list.append([all_extreme_point[i][0],all_extreme_point[i][1]])\n",
    "\n",
    "                            elif corner_index[0][0] == 1:\n",
    "                                x,y = 0,kernel_shape-1\n",
    "                                if (kernel_value[x][y]==int(key) and kernel_value[x][y-1]==int(key) and kernel_value[x+1][y]==int(key)):\n",
    "                                    final_extreme_point_list.append([all_extreme_point[i][0],all_extreme_point[i][1]])\n",
    "\n",
    "                            elif corner_index[0][0] == 2:\n",
    "                                x,y = kernel_shape-1,0\n",
    "                                if (kernel_value[x][y]==int(key) and kernel_value[x-1][y]==int(key) and kernel_value[x][y+1]==int(key)):\n",
    "                                    final_extreme_point_list.append([all_extreme_point[i][0],all_extreme_point[i][1]])\n",
    "\n",
    "                            else:\n",
    "                                x,y = kernel_shape-1,kernel_shape-1\n",
    "                                if (kernel_value[x][y]==int(key) and kernel_value[x][y-1]==int(key) and kernel_value[x-1][y]==int(key)):\n",
    "                                    final_extreme_point_list.append([all_extreme_point[i][0],all_extreme_point[i][1]])\n",
    "                except:\n",
    "                    pass\n",
    "\n",
    "    return final_extreme_point_list"
   ]
  },
  {
   "cell_type": "markdown",
   "metadata": {},
   "source": [
    "### 2nd function\n",
    "making function to get point from original_image, defective image"
   ]
  },
  {
   "cell_type": "code",
   "execution_count": 44,
   "metadata": {},
   "outputs": [],
   "source": [
    "def get_point_on_image(first_img_point,img1_gray_pth,img2_gray_pth,debug=False):\n",
    "\n",
    "    # img1_gray_pth = img1_gray_pth\n",
    "    # img2_gray_pth = img2_gray_pth\n",
    "\n",
    "    second_img_point = []\n",
    "    \n",
    "    for i in range(len(first_img_point)):\n",
    "        ori_img_loc_y = first_img_point[i][0]\n",
    "        ori_img_loc_x = first_img_point[i][1]\n",
    "        x1_f = ori_img_loc_x - config['get_pixel_img1']\n",
    "        x2_f = ori_img_loc_x + config['get_pixel_img1']\n",
    "        y1_f = ori_img_loc_y - config['get_pixel_img1']\n",
    "        y2_f = ori_img_loc_y + config['get_pixel_img1']\n",
    "\n",
    "        img_crop1  = img1_gray_pth[y1_f:y2_f,x1_f:x2_f]\n",
    "        img_first = img_crop1.astype(np.int8)\n",
    "\n",
    "        x1_s = ori_img_loc_x - config['get_pixel_img2']\n",
    "        x2_s = ori_img_loc_x + config['get_pixel_img2']\n",
    "        y1_s = ori_img_loc_y - config['get_pixel_img2']\n",
    "        y2_s = ori_img_loc_y + config['get_pixel_img2']\n",
    "\n",
    "        img_crop2  = img2_gray_pth[y1_s:y2_s,x1_s:x2_s]\n",
    "        img_snd = img_crop2.astype(np.int8)\n",
    "        try:\n",
    "            dict1 = {}\n",
    "            for i in range(config['get_pixel_img2']):\n",
    "                for j in range(config['get_pixel_img2']):\n",
    "                    dict1[i,j] = np.mean(np.abs(img_first  - img_snd[i:i+config['get_pixel_img2'],j:j+config['get_pixel_img2']]))\n",
    "            i,j = min(dict1, key=dict1.get)\n",
    "\n",
    "            s_img_extr_point_x = x1_s + config['get_pixel_img2'] - config['get_pixel_img1'] + j # 10 for each block of first image and -5 for adding from width and height of first image\n",
    "            s_img_extr_point_y =y1_s + config['get_pixel_img2'] - config['get_pixel_img1'] + i\n",
    "            second_img_point.append([s_img_extr_point_y,s_img_extr_point_x])\n",
    "        except:\n",
    "            pass\n",
    "        \n",
    "    if debug:\n",
    "        print(\"in debug\")\n",
    "        for i in range(len(first_img_point)):\n",
    "            img1_gray_pth[first_img_point[i][0]][first_img_point[i][1]] = 255\n",
    "\n",
    "        for i in range(len(second_img_point)):\n",
    "            img2_gray_pth[second_img_point[i][0]][second_img_point[i][1]] = 255\n",
    "        \n",
    "        # cv2.imwrite('3.png',img2_gray_pth)\n",
    "        return second_img_point,img1_gray_pth,img2_gray_pth\n",
    "    else:\n",
    "        return second_img_point\n"
   ]
  },
  {
   "cell_type": "code",
   "execution_count": 45,
   "metadata": {},
   "outputs": [],
   "source": [
    "def get_point_for_both_img(gray_img1):\n",
    "\n",
    "    ### first function part\n",
    "    edge = get_edge_image(gray_img1)\n",
    "    all_component_image = get_connected_comp_img(edge)\n",
    "    all_extreme_point =  get_extreme_point(all_component_image)\n",
    "    remove_duplicate_extreme_point = [tuple(row) for row in all_extreme_point]\n",
    "    remove_duplicate_extreme_point = np.unique(remove_duplicate_extreme_point,axis=0)\n",
    "    first_img_extreme_point = get_removed_extreme_point(gray_img1,remove_duplicate_extreme_point)\n",
    "    if first_img_extreme_point:\n",
    "        return first_img_extreme_point[0]\n",
    "    else:\n",
    "        return first_img_extreme_point"
   ]
  },
  {
   "cell_type": "code",
   "execution_count": 46,
   "metadata": {},
   "outputs": [],
   "source": [
    "def makegrid_img(original_img):\n",
    "    imgheight=original_img.shape[0]\n",
    "    imgwidth=original_img.shape[1]\n",
    "    y1 = 0\n",
    "    M = imgheight//3\n",
    "    N = imgwidth//3\n",
    "    dict1 = {}\n",
    "    i=0\n",
    "    \n",
    "    for y in range(0,imgheight-10,M):\n",
    "        for x in range(0, imgwidth-10, N):\n",
    "            i+=1\n",
    "            y1 = y + M\n",
    "            x1 = x + N\n",
    "            original_img_grid = original_img[y:y+M,x:x+N]\n",
    "\n",
    "            dict1[y,x] = original_img_grid\n",
    "\n",
    "    # print(\"len(dict1)\",len(dict1))\n",
    "    return dict1"
   ]
  },
  {
   "cell_type": "markdown",
   "metadata": {},
   "source": [
    "## Getting four images pixel point from original and defective images"
   ]
  },
  {
   "cell_type": "code",
   "execution_count": 47,
   "metadata": {},
   "outputs": [],
   "source": [
    "def get_four_image(original_img):\n",
    "    height , width = original_img.shape\n",
    "    half_hei, half_wid = height // 2 , width //2\n",
    "    original_final_point_for_all_images = []\n",
    "    original_pixel_value = []\n",
    "    \n",
    "    ### Final changes needed here for getting fine pixel value\n",
    "    def get_final_image(ori_img1,first_img_flag=True, block_num=3):\n",
    "        while first_img_flag:\n",
    "            block_num+=1\n",
    "            if (block_num == 9):\n",
    "                block_num = 0\n",
    "\n",
    "            original_img_dict = makegrid_img(ori_img1)\n",
    "            first_img_extreme_point = get_point_for_both_img(list(original_img_dict.items())[block_num][1])\n",
    "            \n",
    "            if block_num==3 or first_img_extreme_point:\n",
    "                # print(\"block\", block_num)\n",
    "\n",
    "                original_final_point_for_all_images.append(first_img_extreme_point)\n",
    "                original_pixel_value.append(list(original_img_dict.items())[block_num][0])\n",
    "                \n",
    "                # print(\"first_img_extreme_point\",first_img_extreme_point)\n",
    "                # print(\"Break\")\n",
    "                break\n",
    "            else: \n",
    "                pass\n",
    "                \n",
    "        first_img_flag = True\n",
    "\n",
    "        return original_pixel_value\n",
    "\n",
    "\n",
    "    def get_original_img_point(original_final_point_for_all_images, original_pixel_value, half_hei, half_wid):\n",
    "        l = []\n",
    "        m = []\n",
    "        for i in range(len(original_final_point_for_all_images)):\n",
    "            if i==0:\n",
    "                f = np.array(original_final_point_for_all_images[i]) + np.array(original_pixel_value[i]) + np.array((0, 0))\n",
    "                l.append(list(f))\n",
    "            elif i==1:\n",
    "                f = np.array(original_final_point_for_all_images[i]) + np.array(original_pixel_value[i]) + np.array((0, half_wid))\n",
    "                l.append(list(f))\n",
    "            elif i==2:\n",
    "                f = np.array(original_final_point_for_all_images[i]) + np.array(original_pixel_value[i]) + np.array((half_hei, 0))\n",
    "                l.append(list(f))\n",
    "            elif i==3:\n",
    "                f = np.array(original_final_point_for_all_images[i]) + np.array(original_pixel_value[i]) + np.array((half_hei, half_wid))\n",
    "                l.append(list(f))\n",
    "        \n",
    "        return l\n",
    "\n",
    "\n",
    "        # for first block of original image\n",
    "    img1_y1, img1_y2, img1_x1, img1_x2 = 0 , half_hei, 0 , half_wid\n",
    "    ori_img1 = original_img[img1_y1:img1_y2, img1_x1:img1_x2]\n",
    "    first_img_val = get_final_image(ori_img1)\n",
    "\n",
    "    # for second block of original image\n",
    "    img2_y1, img2_y2, img2_x1, img2_x2 = 0 ,  half_hei , half_wid ,  width\n",
    "    ori_img2 = original_img[img2_y1:img2_y2, img2_x1:img2_x2]\n",
    "    second_img_val = get_final_image(ori_img2)\n",
    "    \n",
    "    # for third block of original image\n",
    "    img3_y1, img3_y2, img3_x1, img3_x2 = half_hei, height , 0 , half_wid\n",
    "    ori_img3 = original_img[img3_y1:img3_y2, img3_x1:img3_x2]\n",
    "    third_img_val = get_final_image(ori_img3)\n",
    "\n",
    "    # for fourth block of original image\n",
    "    img4_y1, img4_y2, img4_x1, img4_x2 = half_hei, height , half_wid, width\n",
    "    ori_img4 = original_img[img4_y1:img4_y2, img4_x1:img4_x2]\n",
    "    fourth_img_val = get_final_image(ori_img4)\n",
    "    \n",
    "\n",
    "    original_point = get_original_img_point(original_final_point_for_all_images, original_pixel_value, half_hei, half_wid)\n",
    "\n",
    "    return original_point"
   ]
  },
  {
   "cell_type": "markdown",
   "metadata": {},
   "source": [
    "### Calling as per piyush sir request"
   ]
  },
  {
   "cell_type": "code",
   "execution_count": 48,
   "metadata": {},
   "outputs": [],
   "source": [
    "## reading image\n",
    "original_img = cv2.imread('/home/office5/Downloads/01.bmp',0)\n",
    "defective_img = cv2.imread('/home/office5/Downloads/03.bmp',0)"
   ]
  },
  {
   "cell_type": "code",
   "execution_count": 49,
   "metadata": {},
   "outputs": [
    {
     "data": {
      "text/plain": [
       "[[553, 1560], [803, 5976], [2128, 1761], [2390, 5976]]"
      ]
     },
     "execution_count": 49,
     "metadata": {},
     "output_type": "execute_result"
    }
   ],
   "source": [
    "### to get four point from original image\n",
    "original_point_list = get_four_image(original_img)\n",
    "original_point_list"
   ]
  },
  {
   "cell_type": "code",
   "execution_count": 50,
   "metadata": {},
   "outputs": [
    {
     "data": {
      "text/plain": [
       "[[553, 1561], [803, 5977], [2128, 1762], [2390, 5977]]"
      ]
     },
     "execution_count": 50,
     "metadata": {},
     "output_type": "execute_result"
    }
   ],
   "source": [
    "# function to get extreme point from second point same as original extreme point\n",
    "defective_point_list = get_point_on_image(original_point_list,original_img,defective_img)\n",
    "defective_point_list"
   ]
  },
  {
   "cell_type": "code",
   "execution_count": 51,
   "metadata": {},
   "outputs": [
    {
     "data": {
      "text/plain": [
       "True"
      ]
     },
     "execution_count": 51,
     "metadata": {},
     "output_type": "execute_result"
    }
   ],
   "source": [
    "# for drawing original extreme point on original image\n",
    "for i in range(len(original_point_list)):\n",
    "    original_img[original_point_list[i][0]][original_point_list[i][1]] = 255\n",
    "\n",
    "for j in range(len(defective_point_list)):\n",
    "    defective_img[defective_point_list[j][0]][defective_point_list[j][1]] = 255\n",
    "\n",
    "cv2.imwrite('original_img_point.png',original_img)\n",
    "cv2.imwrite('defective_img_point.png',defective_img)"
   ]
  },
  {
   "cell_type": "code",
   "execution_count": null,
   "metadata": {},
   "outputs": [],
   "source": []
  }
 ],
 "metadata": {
  "interpreter": {
   "hash": "df0893f56f349688326838aaeea0de204df53a132722cbd565e54b24a8fec5f6"
  },
  "kernelspec": {
   "display_name": "Python 3.8.13 64-bit",
   "language": "python",
   "name": "python3"
  },
  "language_info": {
   "codemirror_mode": {
    "name": "ipython",
    "version": 3
   },
   "file_extension": ".py",
   "mimetype": "text/x-python",
   "name": "python",
   "nbconvert_exporter": "python",
   "pygments_lexer": "ipython3",
   "version": "3.8.13"
  },
  "orig_nbformat": 4
 },
 "nbformat": 4,
 "nbformat_minor": 2
}
