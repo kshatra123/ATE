{
 "cells": [
  {
   "cell_type": "code",
   "execution_count": 19,
   "metadata": {},
   "outputs": [],
   "source": [
    "import cv2\n",
    "import numpy as np\n",
    "import matplotlib.pyplot as plt\n",
    "import yaml\n",
    "import os\n",
    "import glob"
   ]
  },
  {
   "cell_type": "code",
   "execution_count": 20,
   "metadata": {},
   "outputs": [
    {
     "data": {
      "text/plain": [
       "{'l_thresh': 30,\n",
       " 'u_thresh': 245,\n",
       " 't_lower': 100,\n",
       " 't_upper': 200,\n",
       " 'L2Gradient': True,\n",
       " 'connectivity': 4,\n",
       " 'get_pixel_img1': 5,\n",
       " 'get_pixel_img2': 10,\n",
       " 'get_kernel_size_value': 1,\n",
       " 'debug': False,\n",
       " 'y_size': 200,\n",
       " 'x_size': 500}"
      ]
     },
     "execution_count": 20,
     "metadata": {},
     "output_type": "execute_result"
    }
   ],
   "source": [
    "CONFIG_PATH = \"/home/office5/ATE/Ketan_sir/\"\n",
    "def load_config(config_name):\n",
    "    with open(os.path.join(CONFIG_PATH, config_name)) as file:\n",
    "        config = yaml.safe_load(file)\n",
    "    return config\n",
    "\n",
    "config = load_config(\"config.yaml\")\n",
    "config"
   ]
  },
  {
   "cell_type": "markdown",
   "metadata": {},
   "source": [
    "## Get crop portion of image"
   ]
  },
  {
   "cell_type": "code",
   "execution_count": 23,
   "metadata": {},
   "outputs": [],
   "source": [
    "def show(img):\n",
    "    plt.figure(figsize = (15,12))\n",
    "    plt.imshow(img)\n",
    "    plt.show()"
   ]
  },
  {
   "cell_type": "code",
   "execution_count": 24,
   "metadata": {},
   "outputs": [],
   "source": [
    "def get_edge_image(img_path):\n",
    "    # Assume the image come is cropped part\n",
    "    img = cv2.imread(img_path)\n",
    "    gray = cv2.cvtColor(img, cv2.COLOR_BGR2GRAY)\n",
    "    thresh = cv2.threshold(gray,30,255,cv2.THRESH_BINARY)[1]\n",
    "    edge = cv2.Canny(thresh, config['t_lower'], config['t_upper'], L2gradient = config['L2Gradient'])\n",
    "    return edge,gray\n",
    "\n",
    "def get_connected_comp_img(edge):\n",
    "    lst_component = []\n",
    "    output = cv2.connectedComponentsWithStats(edge, config['connectivity'], cv2.CV_32S)\n",
    "    (numLabels, labels, stats, centroids) = output\n",
    "\n",
    "    # loop over the number of unique connected component labels\n",
    "    for i in range(0, numLabels):\n",
    "        if i == 0:\n",
    "            text = \"examining component {}/{} (background)\".format(\n",
    "                i + 1, numLabels)\n",
    "        # otherwise, we are examining an actual connected component\n",
    "        else:\n",
    "            text = \"examining component {}/{}\".format( i + 1, numLabels)\n",
    "        # x_ = stats[i, cv2.CC_STAT_LEFT]\n",
    "        # y_ = stats[i, cv2.CC_STAT_TOP]\n",
    "        w_ = stats[i, cv2.CC_STAT_WIDTH]\n",
    "        h_ = stats[i, cv2.CC_STAT_HEIGHT]\n",
    "        area = stats[i, cv2.CC_STAT_AREA]\n",
    "        (cX, cY) = centroids[i]\n",
    "\n",
    "        keepWidth = w_ > 2\n",
    "        keepHeight = h_ > 2\n",
    "        keepArea = area > 50\n",
    "\n",
    "        if all((keepWidth, keepHeight, keepArea)):\n",
    "            componentMask = (labels == i).astype(\"uint8\") * 255\n",
    "            # print(componentMask)\n",
    "            # cv2.imwrite(f\"/home/office5/Image_Code/Ketan_sir/try1_fun_component/{i}.png\",componentMask)\n",
    "            color_img  = cv2.cvtColor(componentMask,cv2.COLOR_GRAY2BGR)\n",
    "            lst_component.append(color_img)\n",
    "    return lst_component"
   ]
  },
  {
   "cell_type": "code",
   "execution_count": 25,
   "metadata": {},
   "outputs": [],
   "source": [
    "def get_extreme_point(all_component_image):\n",
    "\n",
    "    # to store all extreme point\n",
    "    extr_point = []\n",
    "\n",
    "\n",
    "    # Here define range from 1 to n because 0 image is backgroumd\n",
    "    for i in range(1,len(all_component_image)):\n",
    "        gray = cv2.cvtColor(all_component_image[i],cv2.COLOR_BGR2GRAY)\n",
    "        coords = np.column_stack(np.where(gray == 255))\n",
    "\n",
    "        # print(coords)\n",
    "        a = np.min(coords,axis=0)\n",
    "        b = np.max(coords,axis=0)\n",
    "\n",
    "        y_min,x_min,y_max,x_max = a[0],a[1],b[0],b[1]\n",
    "\n",
    "        points = []\n",
    "\n",
    "        # for i in range(len(coords)):\n",
    "        #     if(y_min == coords[i][0]):\n",
    "        #         pass\n",
    "        #     else:\n",
    "        #         points.append([coords[i-1][0], coords[i-1][1]]) \n",
    "        #         break\n",
    "            \n",
    "        for i in range(len(coords)):\n",
    "            if(x_min == coords[i][1]):\n",
    "                points.append([coords[i][0], coords[i][1]]) \n",
    "                break\n",
    "            else:\n",
    "                pass\n",
    "        points.append([coords[-1][0] , coords[-1][1]])\n",
    "        points = np.array(points)\n",
    "\n",
    "        for i in range(3):\n",
    "            extr_point.append([points[i][0], points[i][1]])\n",
    "\n",
    "    return extr_point\n",
    "        \n"
   ]
  },
  {
   "cell_type": "code",
   "execution_count": 26,
   "metadata": {},
   "outputs": [],
   "source": [
    "# def get_index_kernel(ori_gray,arr2,def_arr):\n",
    "\n",
    "#     y1_s = arr2[0] + 2744 - config['top_left_point_kernel']\n",
    "#     y2_s = arr2[0] + 2744 + config['bottom_right_point_kernel']\n",
    "#     x1_s = arr2[1] + 1824 - config['top_left_point_kernel']\n",
    "#     x2_s = arr2[1] + 1824 + config['bottom_right_point_kernel']\n",
    "#     # print(\"gr\",gray)\n",
    "#     kernel_value =  ori_gray[y1_s:y2_s,x1_s:x2_s]\n",
    "#     print(\"Kerenl_value\", kernel_value)\n",
    "#     count = 0\n",
    "#     for i in range(len(kernel_value[0])):\n",
    "#         for j in range(len(kernel_value[1])):\n",
    "#             def_arr[i][j] = (np.subtract(int(kernel_value[config['top_left_point_kernel']][config['top_left_point_kernel']]),int(kernel_value[i][j])))\n",
    "#             def_arr[config['top_left_point_kernel']][config['top_left_point_kernel']] = 5 \n",
    "#             if(def_arr[i][j]==0):\n",
    "#                 def_arr[i][j] = 1\n",
    "#             elif(def_arr[i][j]<0):\n",
    "#                 def_arr[i][j] = 0\n",
    "#             else:\n",
    "#                 def_arr[i][j] = 1\n",
    "            \n",
    "#     return def_arr"
   ]
  },
  {
   "cell_type": "markdown",
   "metadata": {},
   "source": [
    "# trial only for part of image"
   ]
  },
  {
   "cell_type": "code",
   "execution_count": 27,
   "metadata": {},
   "outputs": [],
   "source": [
    "def get_index_kernel(ori_gray,extreme_point_arr,set_kernel_value):\n",
    "\n",
    "    # y1_s = extreme_point_arr[0] - config['top_left_point_kernel']\n",
    "    # y2_s = extreme_point_arr[0] + config['bottom_right_point_kernel']\n",
    "    # x1_s = extreme_point_arr[1] - config['top_left_point_kernel']\n",
    "    # x2_s = extreme_point_arr[1] + config['bottom_right_point_kernel']\n",
    "\n",
    "    y1_s = extreme_point_arr[0] - config['get_kernel_size_value']\n",
    "    y2_s = extreme_point_arr[0] + config['get_kernel_size_value']\n",
    "    x1_s = extreme_point_arr[1] - config['get_kernel_size_value']\n",
    "    x2_s = extreme_point_arr[1] + config['get_kernel_size_value']\n",
    "\n",
    "    try:\n",
    "        kernel_value =  ori_gray[y1_s:y2_s + 1,x1_s:x2_s + 1]\n",
    "        # print(\"Kernel_value -------------------------\")\n",
    "        # print(kernel_value)\n",
    "        \n",
    "        for i in range(len(kernel_value[0])):\n",
    "            for j in range(len(kernel_value[1])):\n",
    "                set_kernel_value[i][j] = (np.subtract(int(kernel_value[config['get_kernel_size_value']][config['get_kernel_size_value']]),int(kernel_value[i][j])))\n",
    "                set_kernel_value[config['get_kernel_size_value']][config['get_kernel_size_value']] = 5 \n",
    "                if(set_kernel_value[i][j]==0):\n",
    "                    set_kernel_value[i][j] = 1\n",
    "                elif(set_kernel_value[i][j]<0):\n",
    "                    set_kernel_value[i][j] = 0\n",
    "                else:\n",
    "                    set_kernel_value[i][j] = 1\n",
    "    except:\n",
    "        # print(kernel_value)\n",
    "        set_kernel_value = np.zeros((3,3))\n",
    "        # print(set_kernel_value)\n",
    "    return set_kernel_value"
   ]
  },
  {
   "cell_type": "code",
   "execution_count": 28,
   "metadata": {},
   "outputs": [],
   "source": [
    "def get_removed_extreme_point(ori_gray,all_extreme_point):\n",
    "\n",
    "    extreme_point_list = []\n",
    "    dict1 = {}\n",
    "    kernel_shape = (config['get_kernel_size_value'] * 2) + 1 ## 1->3 2->5 3->7 kerenl_size\n",
    "    m = 0\n",
    "    dict1 = {}\n",
    "    print(\"all point testing Point\")\n",
    "    for i in range(len(all_extreme_point)):\n",
    "        extreme_point_arr = np.array(all_extreme_point[i])\n",
    "        # print(arr)\n",
    "        zero_kernel_arr = np.zeros((kernel_shape,kernel_shape))\n",
    "        kernel_value = get_index_kernel(ori_gray,extreme_point_arr,zero_kernel_arr)\n",
    "        unique_1_0 = np.unique(kernel_value,return_counts=True)\n",
    "        # print(unique_1_0)\n",
    "        if len(unique_1_0[0])==3:\n",
    "            count_0 = unique_1_0[1][0]\n",
    "            count_1 = unique_1_0[1][1]\n",
    "            # print(count_0,count_1)\n",
    "            dict1['0'] = count_0\n",
    "            dict1['1'] = count_1\n",
    "            if (count_0==3 and count_1==5) or (count_0==5 and count_1==3):\n",
    "                temp_kernel_size_value = config['get_kernel_size_value']\n",
    "                corner_1 = kernel_value[0][0]\n",
    "                corner_2 = kernel_value[0][kernel_shape-1]\n",
    "                corner_3 = kernel_value[kernel_shape-1][0]\n",
    "                corner_4 = kernel_value[kernel_shape-1][kernel_shape-1]\n",
    "\n",
    "                corner_point = np.array([corner_1,corner_2,corner_3,corner_4])\n",
    "                for key, value in dict1.items():\n",
    "                    if value == 3:\n",
    "                        corner_index = np.where(corner_point==int(key)) \n",
    "\n",
    "                        if corner_index[0][0] == 0:\n",
    "                            x,y = 0,0\n",
    "                            if (kernel_value[x][y]==int(key) and kernel_value[x+1][y]==int(key) and kernel_value[x][y+1]==int(key)):\n",
    "                                # print('--------0',[a[i][0],a[i][1]])\n",
    "                                extreme_point_list.append([all_extreme_point[i][0],all_extreme_point[i][1]])\n",
    "\n",
    "                        if corner_index[0][0] == 1:\n",
    "                            x,y = 0,kernel_shape-1\n",
    "                            if (kernel_value[x][y]==int(key) and kernel_value[x][y-1]==int(key) and kernel_value[x+1][y]==int(key)):\n",
    "                                # print('--------1',[a[i][0],a[i][1]])\n",
    "                                extreme_point_list.append([all_extreme_point[i][0],all_extreme_point[i][1]])\n",
    "\n",
    "                        if corner_index[0][0] == 2:\n",
    "                            x,y = kernel_shape-1,0\n",
    "                            if (kernel_value[x][y]==int(key) and kernel_value[x-1][y]==int(key) and kernel_value[x][y+1]==int(key)):\n",
    "                                # print('--------2',[a[i][0],a[i][1]])\n",
    "                                extreme_point_list.append([all_extreme_point[i][0],all_extreme_point[i][1]])\n",
    "\n",
    "                        if corner_index[0][0] == 3:\n",
    "                            x,y = kernel_shape-1,kernel_shape-1\n",
    "                            if (kernel_value[x][y]==int(key) and kernel_value[x][y-1]==int(key) and kernel_value[x-1][y]==int(key)):\n",
    "                                # print('--------3',[a[i][0],a[i][1]])\n",
    "                                extreme_point_list.append([all_extreme_point[i][0],all_extreme_point[i][1]])\n",
    "\n",
    "\n",
    "    return extreme_point_list\n",
    "\n",
    "# a = np.load('coordinate.npy')\n",
    "# a = [tuple(row) for row in a]\n",
    "# a = np.unique(a,axis=0)\n",
    "# h = config['top_left_point_kernel'] + config['bottom_right_point_kernel']\n",
    "\n",
    "# def_arr = np.zeros((h,h))\n",
    "# dict1 = {}\n",
    "# extrmem_point_list = []\n",
    "# value = get_extreme_point(a,dict1,extrmem_point_list)\n",
    "# print(value)"
   ]
  },
  {
   "cell_type": "code",
   "execution_count": 29,
   "metadata": {},
   "outputs": [
    {
     "name": "stderr",
     "output_type": "stream",
     "text": [
      "[ WARN:0@306.188] global /io/opencv/modules/imgcodecs/src/loadsave.cpp (239) findDecoder imread_('/home/office5/Downloads/01.png'): can't open/read file: check file path/integrity\n"
     ]
    },
    {
     "ename": "error",
     "evalue": "OpenCV(4.6.0) /io/opencv/modules/imgproc/src/color.cpp:182: error: (-215:Assertion failed) !_src.empty() in function 'cvtColor'\n",
     "output_type": "error",
     "traceback": [
      "\u001b[0;31m---------------------------------------------------------------------------\u001b[0m",
      "\u001b[0;31merror\u001b[0m                                     Traceback (most recent call last)",
      "\u001b[1;32m/home/office5/ATE/Ketan_sir/final_function_ATE copy.ipynb Cell 11\u001b[0m in \u001b[0;36m<cell line: 11>\u001b[0;34m()\u001b[0m\n\u001b[1;32m      <a href='vscode-notebook-cell:/home/office5/ATE/Ketan_sir/final_function_ATE%20copy.ipynb#X14sZmlsZQ%3D%3D?line=7'>8</a>\u001b[0m     \u001b[39mreturn\u001b[39;00m final_extreme_point\n\u001b[1;32m     <a href='vscode-notebook-cell:/home/office5/ATE/Ketan_sir/final_function_ATE%20copy.ipynb#X14sZmlsZQ%3D%3D?line=9'>10</a>\u001b[0m img_path \u001b[39m=\u001b[39m \u001b[39m'\u001b[39m\u001b[39m/home/office5/Downloads/01.png\u001b[39m\u001b[39m'\u001b[39m\n\u001b[0;32m---> <a href='vscode-notebook-cell:/home/office5/ATE/Ketan_sir/final_function_ATE%20copy.ipynb#X14sZmlsZQ%3D%3D?line=10'>11</a>\u001b[0m final_extreme_point \u001b[39m=\u001b[39m main(img_path)\n\u001b[1;32m     <a href='vscode-notebook-cell:/home/office5/ATE/Ketan_sir/final_function_ATE%20copy.ipynb#X14sZmlsZQ%3D%3D?line=11'>12</a>\u001b[0m \u001b[39mprint\u001b[39m(\u001b[39m\"\u001b[39m\u001b[39m*\u001b[39m\u001b[39m\"\u001b[39m\u001b[39m*\u001b[39m\u001b[39m80\u001b[39m)\n\u001b[1;32m     <a href='vscode-notebook-cell:/home/office5/ATE/Ketan_sir/final_function_ATE%20copy.ipynb#X14sZmlsZQ%3D%3D?line=12'>13</a>\u001b[0m \u001b[39mprint\u001b[39m(final_extreme_point)\n",
      "\u001b[1;32m/home/office5/ATE/Ketan_sir/final_function_ATE copy.ipynb Cell 11\u001b[0m in \u001b[0;36mmain\u001b[0;34m(img_path)\u001b[0m\n\u001b[1;32m      <a href='vscode-notebook-cell:/home/office5/ATE/Ketan_sir/final_function_ATE%20copy.ipynb#X14sZmlsZQ%3D%3D?line=0'>1</a>\u001b[0m \u001b[39mdef\u001b[39;00m \u001b[39mmain\u001b[39m(img_path):\n\u001b[0;32m----> <a href='vscode-notebook-cell:/home/office5/ATE/Ketan_sir/final_function_ATE%20copy.ipynb#X14sZmlsZQ%3D%3D?line=1'>2</a>\u001b[0m     edge,original_gray \u001b[39m=\u001b[39m get_edge_image(img_path)\n\u001b[1;32m      <a href='vscode-notebook-cell:/home/office5/ATE/Ketan_sir/final_function_ATE%20copy.ipynb#X14sZmlsZQ%3D%3D?line=2'>3</a>\u001b[0m     all_component_image \u001b[39m=\u001b[39m get_connected_comp_img(edge)\n\u001b[1;32m      <a href='vscode-notebook-cell:/home/office5/ATE/Ketan_sir/final_function_ATE%20copy.ipynb#X14sZmlsZQ%3D%3D?line=3'>4</a>\u001b[0m     all_extreme_point \u001b[39m=\u001b[39m  get_extreme_point(all_component_image)\n",
      "\u001b[1;32m/home/office5/ATE/Ketan_sir/final_function_ATE copy.ipynb Cell 11\u001b[0m in \u001b[0;36mget_edge_image\u001b[0;34m(img_path)\u001b[0m\n\u001b[1;32m      <a href='vscode-notebook-cell:/home/office5/ATE/Ketan_sir/final_function_ATE%20copy.ipynb#X14sZmlsZQ%3D%3D?line=0'>1</a>\u001b[0m \u001b[39mdef\u001b[39;00m \u001b[39mget_edge_image\u001b[39m(img_path):\n\u001b[1;32m      <a href='vscode-notebook-cell:/home/office5/ATE/Ketan_sir/final_function_ATE%20copy.ipynb#X14sZmlsZQ%3D%3D?line=1'>2</a>\u001b[0m     \u001b[39m# Assume the image come is cropped part\u001b[39;00m\n\u001b[1;32m      <a href='vscode-notebook-cell:/home/office5/ATE/Ketan_sir/final_function_ATE%20copy.ipynb#X14sZmlsZQ%3D%3D?line=2'>3</a>\u001b[0m     img \u001b[39m=\u001b[39m cv2\u001b[39m.\u001b[39mimread(img_path)\n\u001b[0;32m----> <a href='vscode-notebook-cell:/home/office5/ATE/Ketan_sir/final_function_ATE%20copy.ipynb#X14sZmlsZQ%3D%3D?line=3'>4</a>\u001b[0m     gray \u001b[39m=\u001b[39m cv2\u001b[39m.\u001b[39;49mcvtColor(img, cv2\u001b[39m.\u001b[39;49mCOLOR_BGR2GRAY)\n\u001b[1;32m      <a href='vscode-notebook-cell:/home/office5/ATE/Ketan_sir/final_function_ATE%20copy.ipynb#X14sZmlsZQ%3D%3D?line=4'>5</a>\u001b[0m     thresh \u001b[39m=\u001b[39m cv2\u001b[39m.\u001b[39mthreshold(gray,\u001b[39m30\u001b[39m,\u001b[39m255\u001b[39m,cv2\u001b[39m.\u001b[39mTHRESH_BINARY)[\u001b[39m1\u001b[39m]\n\u001b[1;32m      <a href='vscode-notebook-cell:/home/office5/ATE/Ketan_sir/final_function_ATE%20copy.ipynb#X14sZmlsZQ%3D%3D?line=5'>6</a>\u001b[0m     edge \u001b[39m=\u001b[39m cv2\u001b[39m.\u001b[39mCanny(thresh, config[\u001b[39m'\u001b[39m\u001b[39mt_lower\u001b[39m\u001b[39m'\u001b[39m], config[\u001b[39m'\u001b[39m\u001b[39mt_upper\u001b[39m\u001b[39m'\u001b[39m], L2gradient \u001b[39m=\u001b[39m config[\u001b[39m'\u001b[39m\u001b[39mL2Gradient\u001b[39m\u001b[39m'\u001b[39m])\n",
      "\u001b[0;31merror\u001b[0m: OpenCV(4.6.0) /io/opencv/modules/imgproc/src/color.cpp:182: error: (-215:Assertion failed) !_src.empty() in function 'cvtColor'\n"
     ]
    }
   ],
   "source": [
    "def main(img_path):\n",
    "    edge,original_gray = get_edge_image(img_path)\n",
    "    all_component_image = get_connected_comp_img(edge)\n",
    "    all_extreme_point =  get_extreme_point(all_component_image)\n",
    "    remove_duplicate_extreme_point = [tuple(row) for row in all_extreme_point]\n",
    "    remove_duplicate_extreme_point = np.unique(remove_duplicate_extreme_point,axis=0)\n",
    "    final_extreme_point = get_removed_extreme_point(original_gray,remove_duplicate_extreme_point)\n",
    "    return final_extreme_point\n",
    "\n",
    "img_path = '/home/office5/Downloads/01.png'\n",
    "final_extreme_point = main(img_path)\n",
    "print(\"*\"*80)\n",
    "print(final_extreme_point)"
   ]
  },
  {
   "cell_type": "markdown",
   "metadata": {},
   "source": [
    "### 2nd function\n",
    "making function to get point from original_image, defective image"
   ]
  },
  {
   "cell_type": "code",
   "execution_count": 35,
   "metadata": {},
   "outputs": [
    {
     "name": "stdout",
     "output_type": "stream",
     "text": [
      "anna2_gray_img (392, 912)\n",
      "anna3_gray_img (392, 912)\n"
     ]
    }
   ],
   "source": [
    "def get_point_on_image(final_extreme_point,anna2_gray_img,anna3_gray_img):\n",
    "    second_img_point = []\n",
    "    print(\"anna2_gray_img\",anna2_gray_img.shape)\n",
    "    print(\"anna3_gray_img\",anna3_gray_img.shape)\n",
    "\n",
    "    for i in range(len(final_extreme_point)):\n",
    "        ori_img_loc_x = final_extreme_point[i][1]\n",
    "        ori_img_loc_y = final_extreme_point[i][0]\n",
    "        x1_f = ori_img_loc_x - config['get_pixel_img1']\n",
    "        x2_f = ori_img_loc_x + config['get_pixel_img1']\n",
    "        y1_f = ori_img_loc_y - config['get_pixel_img1']\n",
    "        y2_f = ori_img_loc_y + config['get_pixel_img1']\n",
    "\n",
    "        img_crop1  = anna2_gray_img[y1_f:y2_f,x1_f:x2_f]\n",
    "        img_first = img_crop1.astype(np.int8)\n",
    "        # print(\"Original\",ori_img_loc_y,ori_img_loc_x)\n",
    "\n",
    "        x1_s = ori_img_loc_x - config['get_pixel_img2']\n",
    "        x2_s = ori_img_loc_x + config['get_pixel_img2']\n",
    "        y1_s = ori_img_loc_y - config['get_pixel_img2']\n",
    "        y2_s = ori_img_loc_y + config['get_pixel_img2']\n",
    "\n",
    "        img_crop2  = anna3_gray_img[y1_s:y2_s,x1_s:x2_s]\n",
    "        img_snd = img_crop2.astype(np.int8)\n",
    "\n",
    "        dict1 = {}\n",
    "        for i in range(10):\n",
    "            for j in range(10):\n",
    "                dict1[i,j] = np.mean(np.abs(img_first  - img_snd[i:i+10,j:j+10]))\n",
    "        i,j = min(dict1, key=dict1.get)\n",
    "\n",
    "        # print(i,j)\n",
    "        s_img_extr_point_x = x1_s + config['get_pixel_img2'] - config['get_pixel_img1'] + j # 10 for each block of first image and -5 for adding from width and height of first image\n",
    "        s_img_extr_point_y =y1_s + config['get_pixel_img2'] - config['get_pixel_img1'] + i\n",
    "\n",
    "        second_img_point.append([s_img_extr_point_y,s_img_extr_point_x])\n",
    "        # print(\"From second image\",s_img_extr_point_y,s_img_extr_point_x)\n",
    "\n",
    "    for i in range(len(final_extreme_point)):\n",
    "        anna2_gray_img[final_extreme_point[i][0]][final_extreme_point[i][1]] = 255\n",
    "\n",
    "    for i in range(len(second_img_point)):\n",
    "        anna3_gray_img[second_img_point[i][0]][second_img_point[i][1]] = 255\n",
    "\n",
    "    return second_img_point,anna2_gray_img,anna3_gray_img\n",
    "\n",
    "anna2_img = \"/home/office5/Image_Code/Ketan_sir/testing_images/Anna2.png\"\n",
    "anna2_gray_img = cv2.imread(anna2_img,0)\n",
    "\n",
    "anna3_img = \"/home/office5/Image_Code/Ketan_sir/testing_images/Anna3.png\"\n",
    "anna3_gray_img = cv2.imread(anna3_img,0)\n",
    "\n",
    "second_img_point,img1_point, img2_point = get_point_on_image(final_extreme_point,anna2_gray_img,anna3_gray_img)\n",
    "\n",
    "# plt.imshow(img1_point)\n",
    "# plt.show()\n",
    "# plt.imshow(img2_point)\n",
    "# plt.show()\n",
    "\n",
    "# cv2.imwrite('/home/office5/Image_Code/Ketan_sir/testing_images/anna7_redpoint.png',img1_point)\n",
    "# cv2.imwrite('/home/office5/Image_Code/Ketan_sir/testing_images/anna8_redpoint.png',img2_point)"
   ]
  },
  {
   "cell_type": "code",
   "execution_count": 32,
   "metadata": {},
   "outputs": [
    {
     "name": "stdout",
     "output_type": "stream",
     "text": [
      "[[12, 435], [25, 440], [70, 406], [77, 234], [85, 497], [106, 42], [113, 453], [129, 162], [216, 248], [231, 728], [231, 735], [232, 667], [233, 266], [237, 218], [240, 240], [240, 429], [242, 429], [257, 407], [262, 612], [262, 728], [262, 735], [265, 671], [283, 761], [285, 495], [286, 413], [287, 212], [287, 298], [333, 488], [340, 867], [363, 871], [370, 509], [370, 531], [371, 400], [375, 574]]\n",
      "[[12, 435], [24, 440], [69, 406], [77, 234], [85, 497], [105, 43], [113, 453], [130, 163], [216, 248], [231, 728], [231, 735], [232, 667], [233, 266], [237, 219], [240, 240], [241, 429], [243, 429], [257, 407], [262, 612], [262, 728], [262, 735], [265, 671], [283, 761], [285, 495], [286, 413], [287, 213], [287, 298], [333, 488], [339, 867], [362, 871], [369, 509], [369, 531], [370, 400], [374, 574]]\n"
     ]
    }
   ],
   "source": [
    "print(final_extreme_point)\n",
    "print(second_img_point)"
   ]
  },
  {
   "cell_type": "code",
   "execution_count": null,
   "metadata": {},
   "outputs": [],
   "source": [
    "# img_path = '/home/office5/Image_Code/Ketan_sir/gray.png'\n",
    "# edge,original_gray = get_edge_image(img_path)\n",
    "# all_component_image = get_connected_comp_img(edge)\n",
    "# all_extreme_point =  get_extreme_point(all_component_image)\n",
    "# # print(\"-\"*80)\n",
    "# # print(all_extreme_point)\n",
    "# remove_duplicate_extreme_point = [tuple(row) for row in all_extreme_point]\n",
    "# remove_duplicate_extreme_point = np.unique(remove_duplicate_extreme_point,axis=0)\n",
    "# # print(\"$\"*30)\n",
    "# # print(a)\n",
    "# final_extreme_point = get_removed_extreme_point(original_gray,remove_duplicate_extreme_point)\n",
    "# print(\"*\"*80)\n",
    "# print(final_extreme_point)\n",
    "# # For priting white point on extreme point pixel\n",
    "# for i in range(len(value)):\n",
    "#     original_gray[value[i][0]][value[i][1]] = 255\n",
    "# cv2.imwrite('w.png',original_gray)"
   ]
  },
  {
   "cell_type": "code",
   "execution_count": null,
   "metadata": {},
   "outputs": [],
   "source": []
  }
 ],
 "metadata": {
  "interpreter": {
   "hash": "df0893f56f349688326838aaeea0de204df53a132722cbd565e54b24a8fec5f6"
  },
  "kernelspec": {
   "display_name": "Python 3.8.13 64-bit",
   "language": "python",
   "name": "python3"
  },
  "language_info": {
   "codemirror_mode": {
    "name": "ipython",
    "version": 3
   },
   "file_extension": ".py",
   "mimetype": "text/x-python",
   "name": "python",
   "nbconvert_exporter": "python",
   "pygments_lexer": "ipython3",
   "version": "3.8.13"
  },
  "orig_nbformat": 4
 },
 "nbformat": 4,
 "nbformat_minor": 2
}
