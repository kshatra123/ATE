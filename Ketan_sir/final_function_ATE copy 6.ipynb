{
 "cells": [
  {
   "cell_type": "code",
   "execution_count": 1,
   "metadata": {},
   "outputs": [],
   "source": [
    "import cv2\n",
    "import numpy as np\n",
    "import matplotlib.pyplot as plt\n",
    "import yaml\n",
    "import os\n",
    "import glob"
   ]
  },
  {
   "cell_type": "code",
   "execution_count": 2,
   "metadata": {},
   "outputs": [
    {
     "data": {
      "text/plain": [
       "{'l_thresh': 30,\n",
       " 'u_thresh': 245,\n",
       " 't_lower': 100,\n",
       " 't_upper': 200,\n",
       " 'L2Gradient': True,\n",
       " 'connectivity': 4,\n",
       " 'get_pixel_img1': 5,\n",
       " 'get_pixel_img2': 10,\n",
       " 'get_kernel_size_value': 1,\n",
       " 'debug': False,\n",
       " 'y_size': 200,\n",
       " 'x_size': 500}"
      ]
     },
     "execution_count": 2,
     "metadata": {},
     "output_type": "execute_result"
    }
   ],
   "source": [
    "CONFIG_PATH = \"/home/office5/ATE/Ketan_sir/\"\n",
    "def load_config(config_name):\n",
    "    with open(os.path.join(CONFIG_PATH, config_name)) as file:\n",
    "        config = yaml.safe_load(file)\n",
    "    return config\n",
    "\n",
    "config = load_config(\"config.yaml\")\n",
    "config"
   ]
  },
  {
   "cell_type": "code",
   "execution_count": 3,
   "metadata": {},
   "outputs": [],
   "source": [
    "def show(img):\n",
    "    plt.figure(figsize = (15,12))\n",
    "    plt.imshow(img)\n",
    "    plt.show()"
   ]
  },
  {
   "cell_type": "code",
   "execution_count": 4,
   "metadata": {},
   "outputs": [],
   "source": [
    "def get_edge_image(img1):\n",
    "    thresh = cv2.threshold(img1,config['l_thresh'],config['u_thresh'],cv2.THRESH_BINARY)[1]\n",
    "    edge = cv2.Canny(thresh, config['t_lower'], config['t_upper'], L2gradient = config['L2Gradient'])\n",
    "    return edge\n",
    "\n",
    "def get_connected_comp_img(edge):\n",
    "    lst_component = []\n",
    "    output = cv2.connectedComponentsWithStats(edge, config['connectivity'], cv2.CV_32S)\n",
    "    (numLabels, labels, stats, centroids) = output\n",
    "\n",
    "    # loop over the number of unique connected component labels\n",
    "    for i in range(0, numLabels):\n",
    "        if i == 0:\n",
    "            text = \"examining component {}/{} (background)\".format(\n",
    "                i + 1, numLabels)\n",
    "        # otherwise, we are examining an actual connected component\n",
    "        else:\n",
    "            text = \"examining component {}/{}\".format( i + 1, numLabels)\n",
    "        # x_ = stats[i, cv2.CC_STAT_LEFT]\n",
    "        # y_ = stats[i, cv2.CC_STAT_TOP]\n",
    "        w_ = stats[i, cv2.CC_STAT_WIDTH]\n",
    "        h_ = stats[i, cv2.CC_STAT_HEIGHT]\n",
    "        area = stats[i, cv2.CC_STAT_AREA]\n",
    "        (cX, cY) = centroids[i]\n",
    "\n",
    "        keepWidth = w_ > 2\n",
    "        keepHeight = h_ > 2\n",
    "        keepArea = area > 50\n",
    "\n",
    "        if all((keepWidth, keepHeight, keepArea)):\n",
    "            componentMask = (labels == i).astype(\"uint8\") * 255\n",
    "            # print(componentMask)\n",
    "            # cv2.imwrite(f\"/home/office5/Image_Code/Ketan_sir/try1_fun_component/{i}.png\",componentMask)\n",
    "            color_img  = cv2.cvtColor(componentMask,cv2.COLOR_GRAY2BGR)\n",
    "            lst_component.append(color_img)\n",
    "    return lst_component"
   ]
  },
  {
   "cell_type": "code",
   "execution_count": 5,
   "metadata": {},
   "outputs": [],
   "source": [
    "def get_extreme_point(all_component_image):\n",
    "\n",
    "    # to store all extreme point\n",
    "    extr_point = []\n",
    "\n",
    "    # Here define range from 1 to n because 0 image is backgroumd\n",
    "    for i in range(1,len(all_component_image)):\n",
    "        gray = cv2.cvtColor(all_component_image[i],cv2.COLOR_BGR2GRAY)\n",
    "        coords = np.column_stack(np.where(gray == 255))\n",
    "\n",
    "        # print(coords)\n",
    "        a = np.min(coords,axis=0)\n",
    "        b = np.max(coords,axis=0)\n",
    "\n",
    "        y_min,x_min,y_max,x_max = a[0],a[1],b[0],b[1]\n",
    "\n",
    "        points = []\n",
    "\n",
    "        # for i in range(len(coords)):\n",
    "        #     if(y_min == coords[i][0]):\n",
    "        #         pass\n",
    "        #     else:\n",
    "        #         points.append([coords[i-1][0], coords[i-1][1]]) \n",
    "        #         break\n",
    "            \n",
    "        for i in range(len(coords)):\n",
    "            if(x_min == coords[i][1]):\n",
    "                points.append([coords[i][0], coords[i][1]]) \n",
    "                break\n",
    "            else:\n",
    "                pass\n",
    "        points.append([coords[-1][0] , coords[-1][1]])\n",
    "        points = np.array(points)\n",
    "\n",
    "        for i in range(2):\n",
    "            extr_point.append([points[i][0], points[i][1]])\n",
    "\n",
    "    return extr_point\n",
    "        \n"
   ]
  },
  {
   "cell_type": "code",
   "execution_count": 6,
   "metadata": {},
   "outputs": [],
   "source": [
    "def get_index_kernel(ori_gray, extreme_point_arr, set_kernel_value):\n",
    "\n",
    "    y1_s = extreme_point_arr[0] - config['get_kernel_size_value']\n",
    "    y2_s = extreme_point_arr[0] + config['get_kernel_size_value']\n",
    "    x1_s = extreme_point_arr[1] - config['get_kernel_size_value']\n",
    "    x2_s = extreme_point_arr[1] + config['get_kernel_size_value']\n",
    "\n",
    "    try:\n",
    "        kernel_value =  ori_gray[y1_s:y2_s + 1,x1_s:x2_s + 1]\n",
    "        \n",
    "        for i in range(len(kernel_value[0])):\n",
    "            for j in range(len(kernel_value[1])):\n",
    "                set_kernel_value[i][j] = (np.subtract(int(kernel_value[config['get_kernel_size_value']][config['get_kernel_size_value']]),int(kernel_value[i][j])))\n",
    "                set_kernel_value[config['get_kernel_size_value']][config['get_kernel_size_value']] = 5 \n",
    "                if(set_kernel_value[i][j]==0):\n",
    "                    set_kernel_value[i][j] = 1\n",
    "                elif(set_kernel_value[i][j]<0):\n",
    "                    set_kernel_value[i][j] = 0\n",
    "                else:\n",
    "                    set_kernel_value[i][j] = 1\n",
    "    except:\n",
    "        set_kernel_value = np.zeros((3,3))\n",
    "    return set_kernel_value"
   ]
  },
  {
   "cell_type": "code",
   "execution_count": 7,
   "metadata": {},
   "outputs": [],
   "source": [
    "def get_removed_extreme_point(ori_gray, all_extreme_point):\n",
    "\n",
    "    extreme_point_list = []\n",
    "    dict1 = {}\n",
    "    kernel_shape = (config['get_kernel_size_value'] * 2) + 1 ## 1->3 2->5 3->7 kerenl_size\n",
    "    m = 0\n",
    "    dict1 = {}\n",
    "    for i in range(len(all_extreme_point)):\n",
    "        extreme_point_arr = np.array(all_extreme_point[i])\n",
    "        zero_kernel_arr = np.zeros((kernel_shape,kernel_shape))\n",
    "        kernel_value = get_index_kernel(ori_gray,extreme_point_arr,zero_kernel_arr)\n",
    "        unique_1_0 = np.unique(kernel_value,return_counts=True)\n",
    "        # print(\"unique_1_0\",unique_1_0)\n",
    "        if len(unique_1_0[0])==3:\n",
    "            count_0 = unique_1_0[1][0]\n",
    "            count_1 = unique_1_0[1][1]\n",
    "            # print(count_0,count_1)\n",
    "            dict1['0'] = count_0\n",
    "            dict1['1'] = count_1\n",
    "            if (count_0==3 and count_1==5) or (count_0==5 and count_1==3):\n",
    "                temp_kernel_size_value = config['get_kernel_size_value']\n",
    "                corner_1 = kernel_value[0][0]\n",
    "                corner_2 = kernel_value[0][kernel_shape-1]\n",
    "                corner_3 = kernel_value[kernel_shape-1][0]\n",
    "                corner_4 = kernel_value[kernel_shape-1][kernel_shape-1]\n",
    "                try:\n",
    "                    corner_point = np.array([corner_1,corner_2,corner_3,corner_4])\n",
    "                    for key, value in dict1.items():\n",
    "                        if value == 3:\n",
    "                            corner_index = np.where(corner_point==int(key)) \n",
    "\n",
    "                            if corner_index[0][0] == 0:\n",
    "                                x,y = 0,0\n",
    "                                if (kernel_value[x][y]==int(key) and kernel_value[x+1][y]==int(key) and kernel_value[x][y+1]==int(key)):\n",
    "                                    extreme_point_list.append([all_extreme_point[i][0],all_extreme_point[i][1]])\n",
    "\n",
    "                            if corner_index[0][0] == 1:\n",
    "                                x,y = 0,kernel_shape-1\n",
    "                                if (kernel_value[x][y]==int(key) and kernel_value[x][y-1]==int(key) and kernel_value[x+1][y]==int(key)):\n",
    "                                    extreme_point_list.append([all_extreme_point[i][0],all_extreme_point[i][1]])\n",
    "\n",
    "                            if corner_index[0][0] == 2:\n",
    "                                x,y = kernel_shape-1,0\n",
    "                                if (kernel_value[x][y]==int(key) and kernel_value[x-1][y]==int(key) and kernel_value[x][y+1]==int(key)):\n",
    "                                    extreme_point_list.append([all_extreme_point[i][0],all_extreme_point[i][1]])\n",
    "\n",
    "                            if corner_index[0][0] == 3:\n",
    "                                x,y = kernel_shape-1,kernel_shape-1\n",
    "                                if (kernel_value[x][y]==int(key) and kernel_value[x][y-1]==int(key) and kernel_value[x-1][y]==int(key)):\n",
    "                                    extreme_point_list.append([all_extreme_point[i][0],all_extreme_point[i][1]])\n",
    "                except:\n",
    "                    pass\n",
    "\n",
    "    return extreme_point_list"
   ]
  },
  {
   "cell_type": "markdown",
   "metadata": {},
   "source": [
    "### 2nd function\n",
    "making function to get point from original_image, defective image"
   ]
  },
  {
   "cell_type": "code",
   "execution_count": 69,
   "metadata": {},
   "outputs": [],
   "source": [
    "def get_point_on_image(first_img_point,img1_gray_pth,img2_gray_pth):\n",
    "\n",
    "    second_img_point = []\n",
    "    \n",
    "    # for i in range(len(first_img_point)):\n",
    "    ori_img_loc_y = first_img_point[0]\n",
    "    ori_img_loc_x = first_img_point[1]\n",
    "    x1_f = ori_img_loc_x - config['get_pixel_img1']\n",
    "    x2_f = ori_img_loc_x + config['get_pixel_img1']\n",
    "    y1_f = ori_img_loc_y - config['get_pixel_img1']\n",
    "    y2_f = ori_img_loc_y + config['get_pixel_img1']\n",
    "\n",
    "    img_crop1  = img1_gray_pth[y1_f:y2_f,x1_f:x2_f]\n",
    "    img_first = img_crop1.astype(np.int8)\n",
    "\n",
    "    x1_s = ori_img_loc_x - config['get_pixel_img2']\n",
    "    x2_s = ori_img_loc_x + config['get_pixel_img2']\n",
    "    y1_s = ori_img_loc_y - config['get_pixel_img2']\n",
    "    y2_s = ori_img_loc_y + config['get_pixel_img2']\n",
    "\n",
    "    img_crop2  = img2_gray_pth[y1_s:y2_s,x1_s:x2_s]\n",
    "    img_snd = img_crop2.astype(np.int8)\n",
    "    try:\n",
    "        dict1 = {}\n",
    "        for i in range(config['get_pixel_img2']):\n",
    "            for j in range(config['get_pixel_img2']):\n",
    "                dict1[i,j] = np.mean(np.abs(img_first  - img_snd[i:i+config['get_pixel_img2'],j:j+config['get_pixel_img2']]))\n",
    "        i,j = min(dict1, key=dict1.get)\n",
    "        # print(\"i\",\"j\",i,j)\n",
    "        s_img_extr_point_x = x1_s + config['get_pixel_img1'] + j # +5 for adding from width and height of first image\n",
    "        s_img_extr_point_y =y1_s + config['get_pixel_img1'] + i\n",
    "        second_img_point.extend([s_img_extr_point_y,s_img_extr_point_x])\n",
    "    except:\n",
    "        pass\n",
    "\n",
    "    \n",
    "    return second_img_point\n"
   ]
  },
  {
   "cell_type": "markdown",
   "metadata": {},
   "source": [
    "## calling as per piyush sir request"
   ]
  },
  {
   "cell_type": "code",
   "execution_count": 62,
   "metadata": {},
   "outputs": [],
   "source": [
    "original_point_list = [[640, 1389],[866, 5901], [2181, 1754], [2448, 5951]]\n",
    "\n",
    "# pass here two images input\n",
    "original_img = cv2.imread('/home/office5/Downloads/01.bmp',0)\n",
    "defective_img = cv2.imread('/home/office5/Downloads/Anna27.bmp',0)"
   ]
  },
  {
   "cell_type": "code",
   "execution_count": 33,
   "metadata": {},
   "outputs": [],
   "source": [
    "# function to get extreme point from second point same as original extreme point\n",
    "defective_point_list = get_point_on_image(original_point_list,original_img,defective_img)"
   ]
  },
  {
   "cell_type": "code",
   "execution_count": 34,
   "metadata": {},
   "outputs": [
    {
     "name": "stdout",
     "output_type": "stream",
     "text": [
      "original_point_list [[640, 1389], [866, 5901], [2181, 1754], [2448, 5951]]\n",
      "defective_point [[640, 1389], [865, 5901], [2180, 1754], [2448, 5951]]\n"
     ]
    }
   ],
   "source": [
    "## print extreme point of original point and extreme point\n",
    "print(\"original_point_list\",original_point_list)\n",
    "print(\"defective_point\",defective_point_list)"
   ]
  },
  {
   "cell_type": "markdown",
   "metadata": {},
   "source": [
    "## Draw points on images"
   ]
  },
  {
   "cell_type": "code",
   "execution_count": 145,
   "metadata": {},
   "outputs": [
    {
     "data": {
      "text/plain": [
       "True"
      ]
     },
     "execution_count": 145,
     "metadata": {},
     "output_type": "execute_result"
    }
   ],
   "source": [
    "# for drawing original extreme point on original image\n",
    "for i in range(len(original_point_list)):\n",
    "    original_img[original_point_list[i][0]][original_point_list[i][1]] = 255\n",
    "\n",
    "for j in range(len(defective_point_list)):\n",
    "    defective_img[defective_point_list[j][0]][defective_point_list[j][1]] = 255\n",
    "\n",
    "cv2.imwrite('original_img_point.png',original_img)\n",
    "cv2.imwrite('defective_img_point.png',defective_img)"
   ]
  },
  {
   "cell_type": "code",
   "execution_count": null,
   "metadata": {},
   "outputs": [],
   "source": []
  },
  {
   "cell_type": "markdown",
   "metadata": {},
   "source": [
    "## Make four images from original and defective images"
   ]
  },
  {
   "cell_type": "code",
   "execution_count": 35,
   "metadata": {},
   "outputs": [],
   "source": [
    "def get_four_image(original_img,defective_img):\n",
    "    height , width = original_img.shape\n",
    "    half_hei, half_wid = height // 2 , width //2\n",
    "    \n",
    "    ## for first image \n",
    "    img1_centre_y, img1_centre_x = (half_hei) // 2, (half_wid) // 2\n",
    "    img1_y1, img1_y2, img1_x1, img1_x2 = (img1_centre_y - config['y_size']) , (img1_centre_y + config['y_size']) , (img1_centre_x - config['x_size']) , (img1_centre_x + config['x_size']) \n",
    "\n",
    "    ## for second image \n",
    "    img2_centre_y, img2_centre_x = (half_hei) // 2, (half_wid + width) // 2\n",
    "    img2_y1, img2_y2, img2_x1, img2_x2 = (img2_centre_y - config['y_size']) , (img2_centre_y + config['y_size']) , (img2_centre_x - config['x_size']) , (img2_centre_x + config['x_size']) \n",
    "\n",
    "    ## for third image \n",
    "    img3_centre_y, img3_centre_x = (half_hei + height) // 2, (half_wid) // 2\n",
    "    img3_y1, img3_y2, img3_x1, img3_x2 = (img3_centre_y - config['y_size']) , (img3_centre_y + config['y_size']) , (img3_centre_x - config['x_size']) , (img3_centre_x + config['x_size']) \n",
    "\n",
    "    ## for fourth image \n",
    "    img4_centre_y, img4_centre_x =  (half_hei + height) // 2, (half_wid + width) // 2\n",
    "    img4_y1, img4_y2, img4_x1, img4_x2 = (img4_centre_y - config['y_size']) , (img4_centre_y + config['y_size']) , (img4_centre_x - config['x_size']) , (img4_centre_x + config['x_size']) \n",
    "\n",
    "    ori_img1 = original_img[img1_y1:img1_y2, img1_x1:img1_x2]\n",
    "    ori_img2 = original_img[img2_y1:img2_y2, img2_x1:img2_x2]\n",
    "    ori_img3 = original_img[img3_y1:img3_y2, img3_x1:img3_x2]\n",
    "    ori_img4 = original_img[img4_y1:img4_y2, img4_x1:img4_x2]\n",
    "\n",
    "    defective_img1 = defective_img[img1_y1:img1_y2, img1_x1:img1_x2]\n",
    "    defective_img2 = defective_img[img2_y1:img2_y2, img2_x1:img2_x2]\n",
    "    defective_img3 = defective_img[img3_y1:img3_y2, img3_x1:img3_x2]\n",
    "    defective_img4 = defective_img[img4_y1:img4_y2, img4_x1:img4_x2]\n",
    "\n",
    "    img1_pixel_val = (img1_y1,img1_x1)\n",
    "    img2_pixel_val = (img2_y1,img2_x1)\n",
    "    img3_pixel_val = (img3_y1,img3_x1)\n",
    "    img4_pixel_val = (img4_y1,img4_x1)\n",
    "\n",
    "    return (ori_img1, ori_img2, ori_img3, ori_img4) , (defective_img1,defective_img2,defective_img3,defective_img4) , (img1_pixel_val,img2_pixel_val,img3_pixel_val,img4_pixel_val)\n"
   ]
  },
  {
   "cell_type": "markdown",
   "metadata": {},
   "source": [
    "### Final_call function"
   ]
  },
  {
   "cell_type": "code",
   "execution_count": 77,
   "metadata": {},
   "outputs": [],
   "source": [
    "def get_point_for_both_img(gray_img1,gray_img2,debug):\n",
    "\n",
    "    ### first function part\n",
    "    edge = get_edge_image(gray_img1)\n",
    "    all_component_image = get_connected_comp_img(edge)\n",
    "    all_extreme_point =  get_extreme_point(all_component_image)\n",
    "    remove_duplicate_extreme_point = [tuple(row) for row in all_extreme_point]\n",
    "    remove_duplicate_extreme_point = np.unique(remove_duplicate_extreme_point,axis=0)\n",
    "    first_img_extreme_point = get_removed_extreme_point(gray_img1,remove_duplicate_extreme_point)\n",
    "\n",
    "\n",
    "    ## for second function\n",
    "    second_img_extreme_point = get_point_on_image(first_img_extreme_point[0],gray_img1,gray_img2)\n",
    "    \n",
    "    return first_img_extreme_point[0],second_img_extreme_point"
   ]
  },
  {
   "cell_type": "code",
   "execution_count": 78,
   "metadata": {},
   "outputs": [],
   "source": [
    "def main(original_img,defective_img):\n",
    "    # get four part image of each original and defective image\n",
    "    original_four_img, defective_four_img , four_image_points =  get_four_image(original_img,defective_img)\n",
    "\n",
    "    # for collecting original point from image\n",
    "    original_final_point_for_all_images = []\n",
    "    defect_final_point_for_all_images = []\n",
    "\n",
    "    for gray_img1, gray_img2, img_pixel_point in zip(original_four_img, defective_four_img, four_image_points):\n",
    "\n",
    "        first_img_extreme_point,second_img_extreme_point = get_point_for_both_img(gray_img1,gray_img2,config['debug'])\n",
    "\n",
    "        a = np.array(img_pixel_point)\n",
    "        original_point = np.array(first_img_extreme_point) + a\n",
    "        defect_point = np.array(second_img_extreme_point) + a\n",
    "\n",
    "        original_final_point_for_all_images.append(original_point)\n",
    "        defect_final_point_for_all_images.append(defect_point)\n",
    "\n",
    "    return original_final_point_for_all_images, defect_final_point_for_all_images"
   ]
  },
  {
   "cell_type": "code",
   "execution_count": 87,
   "metadata": {},
   "outputs": [],
   "source": [
    "# pass here two images input\n",
    "original_img = cv2.imread('/home/office5/Downloads/01.bmp',0)\n",
    "defective_img = cv2.imread('/home/office5/Downloads/Anna27.bmp',0)"
   ]
  },
  {
   "cell_type": "code",
   "execution_count": 88,
   "metadata": {},
   "outputs": [],
   "source": [
    "original_point, defect_point = main(original_img,defective_img)"
   ]
  },
  {
   "cell_type": "code",
   "execution_count": 89,
   "metadata": {},
   "outputs": [
    {
     "name": "stdout",
     "output_type": "stream",
     "text": [
      "original_point [array([ 640, 1389]), array([ 866, 5901]), array([2181, 1754]), array([2448, 5951])]\n",
      "defect_point [array([ 640, 1389]), array([ 865, 5901]), array([2180, 1754]), array([2448, 5951])]\n"
     ]
    }
   ],
   "source": [
    "print(\"original_point\",original_point)\n",
    "print(\"defect_point\",defect_point)"
   ]
  },
  {
   "cell_type": "code",
   "execution_count": 35,
   "metadata": {},
   "outputs": [],
   "source": [
    "# # pass here two images input\n",
    "# original_img = cv2.imread('/home/office5/ATE/Data_Images/data/Anna2.bmp',0)\n",
    "# defective_img = cv2.imread('/home/office5/ATE/Data_Images/data/Anna3.bmp',0)\n",
    "\n",
    "# ## calling main function and get extreme point\n",
    "# original_final_point_for_all_images, defect_final_point_for_all_images  = main(original_img,defective_img)\n",
    "\n",
    "# # exact point from original image\n",
    "# print(\"original_final_point_for_all_images\",original_final_point_for_all_images)\n",
    "# print(\"defect_final_point_for_all_images\",defect_final_point_for_all_images)\n",
    "\n",
    "# # # for drawing original extreme point on original image\n",
    "# # for i in range(len(original_final_point_for_all_images)):\n",
    "# #     original_img[original_final_point_for_all_images[i][0]][original_final_point_for_all_images[i][1]] = 255\n",
    "\n",
    "# # for j in range(len(defect_final_point_for_all_images)):\n",
    "# #     defective_img[defect_final_point_for_all_images[j][0]][defect_final_point_for_all_images[j][1]] = 255\n",
    "\n",
    "# # cv2.imwrite('original_img_point.png',original_img)\n",
    "# # cv2.imwrite('defective_img_point.png',defective_img)"
   ]
  },
  {
   "cell_type": "code",
   "execution_count": null,
   "metadata": {},
   "outputs": [],
   "source": []
  }
 ],
 "metadata": {
  "interpreter": {
   "hash": "df0893f56f349688326838aaeea0de204df53a132722cbd565e54b24a8fec5f6"
  },
  "kernelspec": {
   "display_name": "Python 3.8.13 64-bit",
   "language": "python",
   "name": "python3"
  },
  "language_info": {
   "codemirror_mode": {
    "name": "ipython",
    "version": 3
   },
   "file_extension": ".py",
   "mimetype": "text/x-python",
   "name": "python",
   "nbconvert_exporter": "python",
   "pygments_lexer": "ipython3",
   "version": "3.8.13"
  },
  "orig_nbformat": 4
 },
 "nbformat": 4,
 "nbformat_minor": 2
}
